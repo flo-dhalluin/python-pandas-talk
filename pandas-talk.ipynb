{
 "cells": [
  {
   "cell_type": "markdown",
   "metadata": {
    "slideshow": {
     "slide_type": "slide"
    }
   },
   "source": [
    "# Python + Pandas is love\n",
    "\n",
    "L'idéal pour une rapport de données, la validation d'une intuition, vite fait, sur un coin de table, en mode oneshot / quick&dirty ? ~~Excel~~ [Pandas](https://pandas.pydata.org/) !\n",
    "\n",
    "Nous allons suivre la génération d'un rapport à partir d'un _petit_ dump de données, ce qui va nous permettre de faire une visite guidée des fonctionnalités de pandas. Ce ne sera pas exhaustif, mais devrait vous permettre d'y penser la prochaine fois. \n"
   ]
  },
  {
   "cell_type": "markdown",
   "metadata": {
    "slideshow": {
     "slide_type": "slide"
    }
   },
   "source": [
    "## La base\n"
   ]
  },
  {
   "cell_type": "code",
   "execution_count": null,
   "metadata": {
    "collapsed": true,
    "slideshow": {
     "slide_type": "subslide"
    }
   },
   "outputs": [],
   "source": [
    "%matplotlib inline\n",
    "import pandas as pd\n",
    "import numpy as np"
   ]
  },
  {
   "cell_type": "markdown",
   "metadata": {
    "slideshow": {
     "slide_type": "slide"
    }
   },
   "source": [
    "### Serie\n",
    "\n",
    "Une série, est une séquence de valeurs, de type homogène (toutes du même type : String, entiers, flotants, dates ... ), __ avec un index __"
   ]
  },
  {
   "cell_type": "code",
   "execution_count": null,
   "metadata": {
    "collapsed": false,
    "slideshow": {
     "slide_type": "subslide"
    }
   },
   "outputs": [],
   "source": [
    "s = pd.Series([5,4,3,2,1,2,3,4,5])\n",
    "s_datetimes = pd.date_range(start=\"2017-01-01\", periods=86400, freq=\"2H\").to_series()\n",
    "\n",
    "display(s.head())\n",
    "display(s_datetimes.head())"
   ]
  },
  {
   "cell_type": "markdown",
   "metadata": {
    "slideshow": {
     "slide_type": "slide"
    }
   },
   "source": [
    "## Dataframe\n",
    "\n",
    "Un Dataframe, c'est un tableau : \n",
    "- un ensemble de Series, nommées ( les colonnes)\n",
    "- qui partagent un index\n"
   ]
  },
  {
   "cell_type": "code",
   "execution_count": null,
   "metadata": {
    "collapsed": false,
    "slideshow": {
     "slide_type": "subslide"
    }
   },
   "outputs": [],
   "source": [
    "data = pd.DataFrame({\"time\": s_datetimes[:120].values,  # get rid of the index\n",
    "                     \"value\": np.random.random(120),\n",
    "                     \"category\": pd.Categorical(list(\"abcdef\" * 20))})\n",
    "\n",
    "print(data.info(()))\n",
    "display(data.head())"
   ]
  },
  {
   "cell_type": "markdown",
   "metadata": {
    "slideshow": {
     "slide_type": "subslide"
    }
   },
   "source": [
    "### Import/Export\n",
    "\n",
    "L'idée étant évidemment d'importer nos données ici, et pas de les générer. Pandas supporte à peu près tout les fichiers formats de données courants :\n",
    "- csv \n",
    "- excel \n",
    "- hdf5 \n",
    "- json/msgpack/parquet\n",
    "\n",
    "_mais aussi_  on peut créer un dataframe directement depuis une requête SQL, ou même Big Query.\n",
    "\n",
    "Nous allons ici utiliser la lingua franca de la data ( rappel du contexte : on est sale, on est rapide, on est pas sexys ...) : le csv. "
   ]
  },
  {
   "cell_type": "code",
   "execution_count": null,
   "metadata": {
    "collapsed": false,
    "slideshow": {
     "slide_type": "subslide"
    }
   },
   "outputs": [],
   "source": [
    "clients = pd.read_csv(\"client_files.csv\", delimiter=\";\", index_col=0, parse_dates=[1])\n",
    "display(clients.head(4))\n",
    "events = pd.read_csv(\"events.csv\", delimiter=\";\", index_col=0, parse_dates=True)\n",
    "#display(events.info())\n",
    "print(\"events is row x cols\", events.shape)\n",
    "display(events.head(4))"
   ]
  },
  {
   "cell_type": "code",
   "execution_count": null,
   "metadata": {
    "collapsed": true
   },
   "outputs": [],
   "source": []
  }
 ],
 "metadata": {
  "celltoolbar": "Slideshow",
  "kernelspec": {
   "display_name": "Python 3",
   "language": "python",
   "name": "python3"
  },
  "language_info": {
   "codemirror_mode": {
    "name": "ipython",
    "version": 3
   },
   "file_extension": ".py",
   "mimetype": "text/x-python",
   "name": "python",
   "nbconvert_exporter": "python",
   "pygments_lexer": "ipython3",
   "version": "3.5.3"
  }
 },
 "nbformat": 4,
 "nbformat_minor": 2
}

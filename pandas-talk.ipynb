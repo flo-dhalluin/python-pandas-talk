{
 "cells": [
  {
   "cell_type": "markdown",
   "metadata": {
    "slideshow": {
     "slide_type": "slide"
    }
   },
   "source": [
    "# Python + Pandas is love\n",
    "\n",
    "L'idéal pour une rapport de données, la validation d'une intuition, vite fait, sur un coin de table, en mode oneshot / quick&dirty ? ~~Excel~~ [Pandas](https://pandas.pydata.org/) !\n",
    "\n",
    "Nous allons suivre la génération d'un rapport à partir d'un _petit_ dump de données, ce qui va nous permettre de faire une visite guidée des fonctionnalités de pandas. Ce ne sera pas exhaustif, mais devrait vous permettre d'y penser la prochaine fois. \n"
   ]
  },
  {
   "cell_type": "markdown",
   "metadata": {
    "slideshow": {
     "slide_type": "slide"
    }
   },
   "source": [
    "## La base\n"
   ]
  },
  {
   "cell_type": "code",
   "execution_count": 1,
   "metadata": {
    "slideshow": {
     "slide_type": "subslide"
    }
   },
   "outputs": [],
   "source": [
    "%matplotlib inline\n",
    "import pandas as pd\n",
    "import numpy as np"
   ]
  },
  {
   "cell_type": "markdown",
   "metadata": {
    "slideshow": {
     "slide_type": "slide"
    }
   },
   "source": [
    "### Serie\n",
    "\n",
    "Une série, est une séquence de valeurs, de type homogène (toutes du même type : String, entiers, flotants, dates ... ), __ avec un index __"
   ]
  },
  {
   "cell_type": "code",
   "execution_count": 2,
   "metadata": {
    "slideshow": {
     "slide_type": "subslide"
    }
   },
   "outputs": [
    {
     "data": {
      "text/plain": [
       "0    5\n",
       "1    4\n",
       "2    3\n",
       "3    2\n",
       "4    1\n",
       "dtype: int64"
      ]
     },
     "metadata": {},
     "output_type": "display_data"
    },
    {
     "data": {
      "text/plain": [
       "2017-01-01 00:00:00   2017-01-01 00:00:00\n",
       "2017-01-01 02:00:00   2017-01-01 02:00:00\n",
       "2017-01-01 04:00:00   2017-01-01 04:00:00\n",
       "2017-01-01 06:00:00   2017-01-01 06:00:00\n",
       "2017-01-01 08:00:00   2017-01-01 08:00:00\n",
       "Freq: 2H, dtype: datetime64[ns]"
      ]
     },
     "metadata": {},
     "output_type": "display_data"
    }
   ],
   "source": [
    "s = pd.Series([5,4,3,2,1,2,3,4,5])\n",
    "s_datetimes = pd.date_range(start=\"2017-01-01\", periods=86400, freq=\"2H\").to_series()\n",
    "\n",
    "display(s.head())\n",
    "display(s_datetimes.head())"
   ]
  },
  {
   "cell_type": "markdown",
   "metadata": {
    "slideshow": {
     "slide_type": "slide"
    }
   },
   "source": [
    "## Dataframe\n",
    "\n",
    "Un Dataframe, c'est un tableau : \n",
    "- un ensemble de Series, nommées ( les colonnes)\n",
    "- qui partagent un index\n"
   ]
  },
  {
   "cell_type": "code",
   "execution_count": 3,
   "metadata": {
    "slideshow": {
     "slide_type": "subslide"
    }
   },
   "outputs": [
    {
     "name": "stdout",
     "output_type": "stream",
     "text": [
      "<class 'pandas.core.frame.DataFrame'>\n",
      "RangeIndex: 120 entries, 0 to 119\n",
      "Data columns (total 3 columns):\n",
      "category    120 non-null category\n",
      "time        120 non-null datetime64[ns]\n",
      "value       120 non-null float64\n",
      "dtypes: category(1), datetime64[ns](1), float64(1)\n",
      "memory usage: 2.3 KB\n",
      "None\n"
     ]
    },
    {
     "data": {
      "text/html": [
       "<div>\n",
       "<style scoped>\n",
       "    .dataframe tbody tr th:only-of-type {\n",
       "        vertical-align: middle;\n",
       "    }\n",
       "\n",
       "    .dataframe tbody tr th {\n",
       "        vertical-align: top;\n",
       "    }\n",
       "\n",
       "    .dataframe thead th {\n",
       "        text-align: right;\n",
       "    }\n",
       "</style>\n",
       "<table border=\"1\" class=\"dataframe\">\n",
       "  <thead>\n",
       "    <tr style=\"text-align: right;\">\n",
       "      <th></th>\n",
       "      <th>category</th>\n",
       "      <th>time</th>\n",
       "      <th>value</th>\n",
       "    </tr>\n",
       "  </thead>\n",
       "  <tbody>\n",
       "    <tr>\n",
       "      <th>0</th>\n",
       "      <td>a</td>\n",
       "      <td>2017-01-01 00:00:00</td>\n",
       "      <td>0.733525</td>\n",
       "    </tr>\n",
       "    <tr>\n",
       "      <th>1</th>\n",
       "      <td>b</td>\n",
       "      <td>2017-01-01 02:00:00</td>\n",
       "      <td>0.222922</td>\n",
       "    </tr>\n",
       "    <tr>\n",
       "      <th>2</th>\n",
       "      <td>c</td>\n",
       "      <td>2017-01-01 04:00:00</td>\n",
       "      <td>0.316829</td>\n",
       "    </tr>\n",
       "    <tr>\n",
       "      <th>3</th>\n",
       "      <td>d</td>\n",
       "      <td>2017-01-01 06:00:00</td>\n",
       "      <td>0.422121</td>\n",
       "    </tr>\n",
       "    <tr>\n",
       "      <th>4</th>\n",
       "      <td>e</td>\n",
       "      <td>2017-01-01 08:00:00</td>\n",
       "      <td>0.510658</td>\n",
       "    </tr>\n",
       "  </tbody>\n",
       "</table>\n",
       "</div>"
      ],
      "text/plain": [
       "  category                time     value\n",
       "0        a 2017-01-01 00:00:00  0.733525\n",
       "1        b 2017-01-01 02:00:00  0.222922\n",
       "2        c 2017-01-01 04:00:00  0.316829\n",
       "3        d 2017-01-01 06:00:00  0.422121\n",
       "4        e 2017-01-01 08:00:00  0.510658"
      ]
     },
     "metadata": {},
     "output_type": "display_data"
    }
   ],
   "source": [
    "data = pd.DataFrame({\"time\": s_datetimes[:120].values,  # get rid of the index\n",
    "                     \"value\": np.random.random(120),\n",
    "                     \"category\": pd.Categorical(list(\"abcdef\" * 20))})\n",
    "\n",
    "print(data.info(()))\n",
    "display(data.head())"
   ]
  },
  {
   "cell_type": "markdown",
   "metadata": {
    "slideshow": {
     "slide_type": "subslide"
    }
   },
   "source": [
    "### Import/Export\n",
    "\n",
    "L'idée étant évidemment d'importer nos données ici, et pas de les générer. Pandas supporte à peu près tout les fichiers formats de données courants :\n",
    "- csv \n",
    "- excel \n",
    "- hdf5 \n",
    "- json/msgpack/parquet\n",
    "\n",
    "_mais aussi_  on peut créer un dataframe directement depuis une requête SQL, ou même Big Query.\n",
    "\n",
    "Nous allons ici utiliser la lingua franca de la data ( rappel du contexte : on est sale, on est rapide, on est pas sexys ...) : le csv. "
   ]
  },
  {
   "cell_type": "code",
   "execution_count": 27,
   "metadata": {
    "slideshow": {
     "slide_type": "subslide"
    }
   },
   "outputs": [
    {
     "data": {
      "text/html": [
       "<div>\n",
       "<style scoped>\n",
       "    .dataframe tbody tr th:only-of-type {\n",
       "        vertical-align: middle;\n",
       "    }\n",
       "\n",
       "    .dataframe tbody tr th {\n",
       "        vertical-align: top;\n",
       "    }\n",
       "\n",
       "    .dataframe thead th {\n",
       "        text-align: right;\n",
       "    }\n",
       "</style>\n",
       "<table border=\"1\" class=\"dataframe\">\n",
       "  <thead>\n",
       "    <tr style=\"text-align: right;\">\n",
       "      <th></th>\n",
       "      <th>date_created</th>\n",
       "      <th>product</th>\n",
       "      <th>first_name</th>\n",
       "      <th>last_name</th>\n",
       "      <th>dob</th>\n",
       "    </tr>\n",
       "    <tr>\n",
       "      <th>uuid</th>\n",
       "      <th></th>\n",
       "      <th></th>\n",
       "      <th></th>\n",
       "      <th></th>\n",
       "      <th></th>\n",
       "    </tr>\n",
       "  </thead>\n",
       "  <tbody>\n",
       "    <tr>\n",
       "      <th>cdc4184a-1ea9-4bbb-b73a-3b43ffec13a2</th>\n",
       "      <td>2017-01-01 00:57:10</td>\n",
       "      <td>CARTE_CREDIT</td>\n",
       "      <td>Arthur</td>\n",
       "      <td>Chevallier</td>\n",
       "      <td>2018-02-19 14:16:18</td>\n",
       "    </tr>\n",
       "    <tr>\n",
       "      <th>d5f69c02-9db3-4fa9-9c56-9005ebe57384</th>\n",
       "      <td>2017-01-01 01:03:54</td>\n",
       "      <td>ASSURANCE_A</td>\n",
       "      <td>Jérôme</td>\n",
       "      <td>Tessier</td>\n",
       "      <td>2018-03-13 21:33:39</td>\n",
       "    </tr>\n",
       "    <tr>\n",
       "      <th>05994cd0-4804-43c8-af0b-d9cb17c924dc</th>\n",
       "      <td>2017-01-01 01:37:00</td>\n",
       "      <td>ASSURANCE_A</td>\n",
       "      <td>Gérard</td>\n",
       "      <td>Merle</td>\n",
       "      <td>2018-03-06 13:44:38</td>\n",
       "    </tr>\n",
       "    <tr>\n",
       "      <th>b11380bd-beae-4502-a97c-a6a2562bb58c</th>\n",
       "      <td>2017-01-01 01:53:57</td>\n",
       "      <td>ASSURANCE_A</td>\n",
       "      <td>Adrien</td>\n",
       "      <td>Vallet</td>\n",
       "      <td>2018-02-24 12:02:46</td>\n",
       "    </tr>\n",
       "  </tbody>\n",
       "</table>\n",
       "</div>"
      ],
      "text/plain": [
       "                                            date_created       product  \\\n",
       "uuid                                                                     \n",
       "cdc4184a-1ea9-4bbb-b73a-3b43ffec13a2 2017-01-01 00:57:10  CARTE_CREDIT   \n",
       "d5f69c02-9db3-4fa9-9c56-9005ebe57384 2017-01-01 01:03:54   ASSURANCE_A   \n",
       "05994cd0-4804-43c8-af0b-d9cb17c924dc 2017-01-01 01:37:00   ASSURANCE_A   \n",
       "b11380bd-beae-4502-a97c-a6a2562bb58c 2017-01-01 01:53:57   ASSURANCE_A   \n",
       "\n",
       "                                     first_name   last_name  \\\n",
       "uuid                                                          \n",
       "cdc4184a-1ea9-4bbb-b73a-3b43ffec13a2     Arthur  Chevallier   \n",
       "d5f69c02-9db3-4fa9-9c56-9005ebe57384     Jérôme     Tessier   \n",
       "05994cd0-4804-43c8-af0b-d9cb17c924dc     Gérard       Merle   \n",
       "b11380bd-beae-4502-a97c-a6a2562bb58c     Adrien      Vallet   \n",
       "\n",
       "                                                      dob  \n",
       "uuid                                                       \n",
       "cdc4184a-1ea9-4bbb-b73a-3b43ffec13a2  2018-02-19 14:16:18  \n",
       "d5f69c02-9db3-4fa9-9c56-9005ebe57384  2018-03-13 21:33:39  \n",
       "05994cd0-4804-43c8-af0b-d9cb17c924dc  2018-03-06 13:44:38  \n",
       "b11380bd-beae-4502-a97c-a6a2562bb58c  2018-02-24 12:02:46  "
      ]
     },
     "metadata": {},
     "output_type": "display_data"
    },
    {
     "name": "stdout",
     "output_type": "stream",
     "text": [
      "events is row x cols (23452, 4)\n"
     ]
    },
    {
     "data": {
      "text/html": [
       "<div>\n",
       "<style scoped>\n",
       "    .dataframe tbody tr th:only-of-type {\n",
       "        vertical-align: middle;\n",
       "    }\n",
       "\n",
       "    .dataframe tbody tr th {\n",
       "        vertical-align: top;\n",
       "    }\n",
       "\n",
       "    .dataframe thead th {\n",
       "        text-align: right;\n",
       "    }\n",
       "</style>\n",
       "<table border=\"1\" class=\"dataframe\">\n",
       "  <thead>\n",
       "    <tr style=\"text-align: right;\">\n",
       "      <th></th>\n",
       "      <th>client_uuid</th>\n",
       "      <th>type</th>\n",
       "      <th>doc_type</th>\n",
       "      <th>status</th>\n",
       "    </tr>\n",
       "    <tr>\n",
       "      <th>timestamp</th>\n",
       "      <th></th>\n",
       "      <th></th>\n",
       "      <th></th>\n",
       "      <th></th>\n",
       "    </tr>\n",
       "  </thead>\n",
       "  <tbody>\n",
       "    <tr>\n",
       "      <th>2017-01-01 00:59:11</th>\n",
       "      <td>cdc4184a-1ea9-4bbb-b73a-3b43ffec13a2</td>\n",
       "      <td>DOC</td>\n",
       "      <td>RIB</td>\n",
       "      <td>True</td>\n",
       "    </tr>\n",
       "    <tr>\n",
       "      <th>2017-01-01 01:03:29</th>\n",
       "      <td>cdc4184a-1ea9-4bbb-b73a-3b43ffec13a2</td>\n",
       "      <td>DOC</td>\n",
       "      <td>TAX_NOTICE</td>\n",
       "      <td>True</td>\n",
       "    </tr>\n",
       "    <tr>\n",
       "      <th>2017-01-01 01:04:09</th>\n",
       "      <td>cdc4184a-1ea9-4bbb-b73a-3b43ffec13a2</td>\n",
       "      <td>SIGNATURE</td>\n",
       "      <td>NaN</td>\n",
       "      <td>True</td>\n",
       "    </tr>\n",
       "    <tr>\n",
       "      <th>2017-01-01 01:05:27</th>\n",
       "      <td>d5f69c02-9db3-4fa9-9c56-9005ebe57384</td>\n",
       "      <td>DOC</td>\n",
       "      <td>TAX_NOTICE</td>\n",
       "      <td>False</td>\n",
       "    </tr>\n",
       "  </tbody>\n",
       "</table>\n",
       "</div>"
      ],
      "text/plain": [
       "                                              client_uuid       type  \\\n",
       "timestamp                                                              \n",
       "2017-01-01 00:59:11  cdc4184a-1ea9-4bbb-b73a-3b43ffec13a2        DOC   \n",
       "2017-01-01 01:03:29  cdc4184a-1ea9-4bbb-b73a-3b43ffec13a2        DOC   \n",
       "2017-01-01 01:04:09  cdc4184a-1ea9-4bbb-b73a-3b43ffec13a2  SIGNATURE   \n",
       "2017-01-01 01:05:27  d5f69c02-9db3-4fa9-9c56-9005ebe57384        DOC   \n",
       "\n",
       "                       doc_type  status  \n",
       "timestamp                                \n",
       "2017-01-01 00:59:11         RIB    True  \n",
       "2017-01-01 01:03:29  TAX_NOTICE    True  \n",
       "2017-01-01 01:04:09         NaN    True  \n",
       "2017-01-01 01:05:27  TAX_NOTICE   False  "
      ]
     },
     "metadata": {},
     "output_type": "display_data"
    }
   ],
   "source": [
    "clients = pd.read_csv(\"client_files.csv\", delimiter=\";\", index_col=0, parse_dates=[1])\n",
    "display(clients.head(4))\n",
    "events = pd.read_csv(\"events.csv\", delimiter=\";\", index_col=0, parse_dates=True)\n",
    "#display(events.info())\n",
    "print(\"events is row x cols\", events.shape)\n",
    "display(events.head(4))"
   ]
  },
  {
   "cell_type": "code",
   "execution_count": null,
   "metadata": {},
   "outputs": [],
   "source": []
  }
 ],
 "metadata": {
  "celltoolbar": "Slideshow",
  "kernelspec": {
   "display_name": "Python 3",
   "language": "python",
   "name": "python3"
  },
  "language_info": {
   "codemirror_mode": {
    "name": "ipython",
    "version": 3
   },
   "file_extension": ".py",
   "mimetype": "text/x-python",
   "name": "python",
   "nbconvert_exporter": "python",
   "pygments_lexer": "ipython3",
   "version": "3.5.3"
  }
 },
 "nbformat": 4,
 "nbformat_minor": 2
}

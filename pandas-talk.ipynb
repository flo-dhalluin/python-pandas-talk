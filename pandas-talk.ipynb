{
 "cells": [
  {
   "cell_type": "markdown",
   "metadata": {
    "slideshow": {
     "slide_type": "slide"
    }
   },
   "source": [
    "# Python + Pandas is love\n",
    "\n",
    "L'idéal pour une rapport de données, la validation d'une intuition, vite fait, sur un coin de table, en mode oneshot / quick&dirty ? ~~Excel~~ [Pandas](https://pandas.pydata.org/) !\n",
    "\n",
    "Nous allons suivre la génération d'un rapport à partir d'un _petit_ dump de données, ce qui va nous permettre de faire une visite guidée des fonctionnalités de pandas. Ce ne sera pas exhaustif, mais devrait vous permettre d'y penser la prochaine fois. \n"
   ]
  },
  {
   "cell_type": "markdown",
   "metadata": {
    "slideshow": {
     "slide_type": "slide"
    }
   },
   "source": [
    "## La base\n"
   ]
  },
  {
   "cell_type": "code",
   "execution_count": 1,
   "metadata": {
    "slideshow": {
     "slide_type": "subslide"
    }
   },
   "outputs": [],
   "source": [
    "%matplotlib inline\n",
    "import pandas as pd\n",
    "import numpy as np"
   ]
  },
  {
   "cell_type": "markdown",
   "metadata": {
    "slideshow": {
     "slide_type": "slide"
    }
   },
   "source": [
    "### Serie\n",
    "\n",
    "Une série, est une séquence de valeurs, de type homogène (toutes du même type : String, entiers, flotants, dates ... ), __ avec un index __"
   ]
  },
  {
   "cell_type": "code",
   "execution_count": 2,
   "metadata": {
    "slideshow": {
     "slide_type": "subslide"
    }
   },
   "outputs": [
    {
     "data": {
      "text/plain": [
       "2017-01-01 00:00:00   2017-01-01 00:00:00\n",
       "2017-01-01 02:00:00   2017-01-01 02:00:00\n",
       "2017-01-01 04:00:00   2017-01-01 04:00:00\n",
       "2017-01-01 06:00:00   2017-01-01 06:00:00\n",
       "2017-01-01 08:00:00   2017-01-01 08:00:00\n",
       "Freq: 2H, dtype: datetime64[ns]"
      ]
     },
     "execution_count": 2,
     "metadata": {},
     "output_type": "execute_result"
    }
   ],
   "source": [
    "s = pd.Series([5,4,3,2,1,2,3,4,5])\n",
    "s_datetimes = pd.date_range(start=\"2017-01-01\", periods=86400, freq=\"2H\").to_series()\n",
    "\n",
    "#display(s.head())\n",
    "s_datetimes.head()"
   ]
  },
  {
   "cell_type": "markdown",
   "metadata": {
    "slideshow": {
     "slide_type": "slide"
    }
   },
   "source": [
    "## Dataframe\n",
    "\n",
    "Un Dataframe, c'est un tableau : \n",
    "- un ensemble de Series, nommées ( les colonnes)\n",
    "- qui partagent un index\n"
   ]
  },
  {
   "cell_type": "code",
   "execution_count": 3,
   "metadata": {
    "slideshow": {
     "slide_type": "subslide"
    }
   },
   "outputs": [
    {
     "name": "stdout",
     "output_type": "stream",
     "text": [
      "<class 'pandas.core.frame.DataFrame'>\n",
      "RangeIndex: 120 entries, 0 to 119\n",
      "Data columns (total 3 columns):\n",
      "category    120 non-null category\n",
      "time        120 non-null datetime64[ns]\n",
      "value       120 non-null float64\n",
      "dtypes: category(1), datetime64[ns](1), float64(1)\n",
      "memory usage: 2.1 KB\n",
      "None\n"
     ]
    },
    {
     "data": {
      "text/html": [
       "<div>\n",
       "<style scoped>\n",
       "    .dataframe tbody tr th:only-of-type {\n",
       "        vertical-align: middle;\n",
       "    }\n",
       "\n",
       "    .dataframe tbody tr th {\n",
       "        vertical-align: top;\n",
       "    }\n",
       "\n",
       "    .dataframe thead th {\n",
       "        text-align: right;\n",
       "    }\n",
       "</style>\n",
       "<table border=\"1\" class=\"dataframe\">\n",
       "  <thead>\n",
       "    <tr style=\"text-align: right;\">\n",
       "      <th></th>\n",
       "      <th>category</th>\n",
       "      <th>time</th>\n",
       "      <th>value</th>\n",
       "    </tr>\n",
       "  </thead>\n",
       "  <tbody>\n",
       "    <tr>\n",
       "      <th>0</th>\n",
       "      <td>a</td>\n",
       "      <td>2017-01-01 00:00:00</td>\n",
       "      <td>0.845008</td>\n",
       "    </tr>\n",
       "    <tr>\n",
       "      <th>1</th>\n",
       "      <td>b</td>\n",
       "      <td>2017-01-01 02:00:00</td>\n",
       "      <td>0.189874</td>\n",
       "    </tr>\n",
       "    <tr>\n",
       "      <th>2</th>\n",
       "      <td>c</td>\n",
       "      <td>2017-01-01 04:00:00</td>\n",
       "      <td>0.169918</td>\n",
       "    </tr>\n",
       "    <tr>\n",
       "      <th>3</th>\n",
       "      <td>d</td>\n",
       "      <td>2017-01-01 06:00:00</td>\n",
       "      <td>0.579058</td>\n",
       "    </tr>\n",
       "    <tr>\n",
       "      <th>4</th>\n",
       "      <td>e</td>\n",
       "      <td>2017-01-01 08:00:00</td>\n",
       "      <td>0.469799</td>\n",
       "    </tr>\n",
       "  </tbody>\n",
       "</table>\n",
       "</div>"
      ],
      "text/plain": [
       "  category                time     value\n",
       "0        a 2017-01-01 00:00:00  0.845008\n",
       "1        b 2017-01-01 02:00:00  0.189874\n",
       "2        c 2017-01-01 04:00:00  0.169918\n",
       "3        d 2017-01-01 06:00:00  0.579058\n",
       "4        e 2017-01-01 08:00:00  0.469799"
      ]
     },
     "metadata": {},
     "output_type": "display_data"
    }
   ],
   "source": [
    "data = pd.DataFrame({\"time\": s_datetimes[:120].values,  # get rid of the index\n",
    "                     \"value\": np.random.random(120),\n",
    "                     \"category\": pd.Categorical(list(\"abcdef\" * 20))})\n",
    "\n",
    "print(data.info(()))\n",
    "display(data.head())"
   ]
  },
  {
   "cell_type": "markdown",
   "metadata": {
    "slideshow": {
     "slide_type": "subslide"
    }
   },
   "source": [
    "### Import/Export\n",
    "\n",
    "L'idée étant évidemment d'importer nos données ici, et pas de les générer. Pandas supporte à peu près tout les fichiers formats de données courants :\n",
    "- csv \n",
    "- excel \n",
    "- hdf5 \n",
    "- json/msgpack/parquet\n",
    "\n",
    "_mais aussi_  on peut créer un dataframe directement depuis une requête SQL, ou même Big Query.\n",
    "\n",
    "Nous allons ici utiliser la lingua franca de la data ( rappel du contexte : on est sale, on est rapide, on est pas sexys ...) : le csv. "
   ]
  },
  {
   "cell_type": "code",
   "execution_count": 4,
   "metadata": {
    "slideshow": {
     "slide_type": "subslide"
    }
   },
   "outputs": [
    {
     "name": "stdout",
     "output_type": "stream",
     "text": [
      "events is row x cols (21938, 4)\n",
      "columns are :  Index(['client_uuid', 'type', 'doc_type', 'status'], dtype='object')\n",
      "time range: 2017-01-01 04:07:02 2017-01-21 20:39:23\n"
     ]
    },
    {
     "data": {
      "text/html": [
       "<div>\n",
       "<style scoped>\n",
       "    .dataframe tbody tr th:only-of-type {\n",
       "        vertical-align: middle;\n",
       "    }\n",
       "\n",
       "    .dataframe tbody tr th {\n",
       "        vertical-align: top;\n",
       "    }\n",
       "\n",
       "    .dataframe thead th {\n",
       "        text-align: right;\n",
       "    }\n",
       "</style>\n",
       "<table border=\"1\" class=\"dataframe\">\n",
       "  <thead>\n",
       "    <tr style=\"text-align: right;\">\n",
       "      <th></th>\n",
       "      <th>client_uuid</th>\n",
       "      <th>type</th>\n",
       "      <th>doc_type</th>\n",
       "      <th>status</th>\n",
       "    </tr>\n",
       "    <tr>\n",
       "      <th>timestamp</th>\n",
       "      <th></th>\n",
       "      <th></th>\n",
       "      <th></th>\n",
       "      <th></th>\n",
       "    </tr>\n",
       "  </thead>\n",
       "  <tbody>\n",
       "    <tr>\n",
       "      <th>2017-01-01 04:07:02</th>\n",
       "      <td>5ada8b5e-bb71-4bf7-b045-bb69956fa744</td>\n",
       "      <td>DOC</td>\n",
       "      <td>TAX_NOTICE</td>\n",
       "      <td>True</td>\n",
       "    </tr>\n",
       "    <tr>\n",
       "      <th>2017-01-01 04:07:05</th>\n",
       "      <td>5ada8b5e-bb71-4bf7-b045-bb69956fa744</td>\n",
       "      <td>DOC</td>\n",
       "      <td>PAYSLIP</td>\n",
       "      <td>True</td>\n",
       "    </tr>\n",
       "    <tr>\n",
       "      <th>2017-01-01 04:07:06</th>\n",
       "      <td>5ada8b5e-bb71-4bf7-b045-bb69956fa744</td>\n",
       "      <td>SIGNATURE</td>\n",
       "      <td>NaN</td>\n",
       "      <td>True</td>\n",
       "    </tr>\n",
       "    <tr>\n",
       "      <th>2017-01-01 05:32:01</th>\n",
       "      <td>c4837f20-8635-4736-baa9-86f1ca5991a9</td>\n",
       "      <td>DOC</td>\n",
       "      <td>CNI</td>\n",
       "      <td>False</td>\n",
       "    </tr>\n",
       "  </tbody>\n",
       "</table>\n",
       "</div>"
      ],
      "text/plain": [
       "                                              client_uuid       type  \\\n",
       "timestamp                                                              \n",
       "2017-01-01 04:07:02  5ada8b5e-bb71-4bf7-b045-bb69956fa744        DOC   \n",
       "2017-01-01 04:07:05  5ada8b5e-bb71-4bf7-b045-bb69956fa744        DOC   \n",
       "2017-01-01 04:07:06  5ada8b5e-bb71-4bf7-b045-bb69956fa744  SIGNATURE   \n",
       "2017-01-01 05:32:01  c4837f20-8635-4736-baa9-86f1ca5991a9        DOC   \n",
       "\n",
       "                       doc_type  status  \n",
       "timestamp                                \n",
       "2017-01-01 04:07:02  TAX_NOTICE    True  \n",
       "2017-01-01 04:07:05     PAYSLIP    True  \n",
       "2017-01-01 04:07:06         NaN    True  \n",
       "2017-01-01 05:32:01         CNI   False  "
      ]
     },
     "metadata": {},
     "output_type": "display_data"
    }
   ],
   "source": [
    "clients = pd.read_csv(\"client_files.csv\", delimiter=\";\", index_col=0, parse_dates=[1])\n",
    "#display(clients.head(4))\n",
    "events = pd.read_csv(\"events.csv\", delimiter=\";\", index_col=0, parse_dates=True)\n",
    "#display(events.info())\n",
    "print(\"events is row x cols\", events.shape)\n",
    "print(\"columns are : \", events.columns)\n",
    "print(\"time range:\", events.index.min(), events.index.max())\n",
    "display(events.head(4))"
   ]
  },
  {
   "cell_type": "markdown",
   "metadata": {
    "slideshow": {
     "slide_type": "slide"
    }
   },
   "source": [
    "## Let's go\n",
    "\n",
    "### Les données :\n",
    "\n",
    "Les clients remplissent des dossiers pour soucrire à des produits, ils doivent envoyer certains justificatifs qui sont\n",
    "  validés automatiquement (ou pas). events enregistre les différentes soumissions de documents. (client_uuid, correspond à un dossier). comme la validation automatique peut échouer, le client resoumet ces pièces.\n",
    "\n",
    "### Le probème\n",
    "Nous voudrions compiler un peu des stats sur le nombre de soumission, par type de dossier ... juste à partir de la table des evenements.\n"
   ]
  },
  {
   "cell_type": "markdown",
   "metadata": {},
   "source": [
    "### Requêtes simples"
   ]
  },
  {
   "cell_type": "code",
   "execution_count": 5,
   "metadata": {},
   "outputs": [
    {
     "name": "stdout",
     "output_type": "stream",
     "text": [
      "1006 events recorded on January 10th\n"
     ]
    },
    {
     "name": "stderr",
     "output_type": "stream",
     "text": [
      "/home/flo/code/python-pandas-talk/.venv/lib/python3.5/site-packages/ipykernel_launcher.py:10: DeprecationWarning: \n",
      ".ix is deprecated. Please use\n",
      ".loc for label based indexing or\n",
      ".iloc for positional indexing\n",
      "\n",
      "See the documentation here:\n",
      "http://pandas.pydata.org/pandas-docs/stable/indexing.html#ix-indexer-is-deprecated\n",
      "  # Remove the CWD from sys.path while we load stuff.\n"
     ]
    },
    {
     "data": {
      "text/html": [
       "<div>\n",
       "<style scoped>\n",
       "    .dataframe tbody tr th:only-of-type {\n",
       "        vertical-align: middle;\n",
       "    }\n",
       "\n",
       "    .dataframe tbody tr th {\n",
       "        vertical-align: top;\n",
       "    }\n",
       "\n",
       "    .dataframe thead th {\n",
       "        text-align: right;\n",
       "    }\n",
       "</style>\n",
       "<table border=\"1\" class=\"dataframe\">\n",
       "  <thead>\n",
       "    <tr style=\"text-align: right;\">\n",
       "      <th></th>\n",
       "      <th>client_uuid</th>\n",
       "      <th>type</th>\n",
       "      <th>doc_type</th>\n",
       "      <th>status</th>\n",
       "    </tr>\n",
       "    <tr>\n",
       "      <th>timestamp</th>\n",
       "      <th></th>\n",
       "      <th></th>\n",
       "      <th></th>\n",
       "      <th></th>\n",
       "    </tr>\n",
       "  </thead>\n",
       "  <tbody>\n",
       "    <tr>\n",
       "      <th>2017-01-01 07:58:19</th>\n",
       "      <td>bec58651-0c28-4c15-a51e-162b69d4a3c0</td>\n",
       "      <td>DOC</td>\n",
       "      <td>RIB</td>\n",
       "      <td>True</td>\n",
       "    </tr>\n",
       "    <tr>\n",
       "      <th>2017-01-01 07:59:17</th>\n",
       "      <td>bec58651-0c28-4c15-a51e-162b69d4a3c0</td>\n",
       "      <td>SIGNATURE</td>\n",
       "      <td>NaN</td>\n",
       "      <td>True</td>\n",
       "    </tr>\n",
       "  </tbody>\n",
       "</table>\n",
       "</div>"
      ],
      "text/plain": [
       "                                              client_uuid       type doc_type  \\\n",
       "timestamp                                                                       \n",
       "2017-01-01 07:58:19  bec58651-0c28-4c15-a51e-162b69d4a3c0        DOC      RIB   \n",
       "2017-01-01 07:59:17  bec58651-0c28-4c15-a51e-162b69d4a3c0  SIGNATURE      NaN   \n",
       "\n",
       "                     status  \n",
       "timestamp                    \n",
       "2017-01-01 07:58:19    True  \n",
       "2017-01-01 07:59:17    True  "
      ]
     },
     "execution_count": 5,
     "metadata": {},
     "output_type": "execute_result"
    }
   ],
   "source": [
    "import datetime\n",
    "\n",
    "cni_events = events[events.doc_type == \"CNI\"] # keep only CNI type docs\n",
    "# keep only events occuring on january 10th. \n",
    "day_events = events[events.index.date == datetime.date(2017,1,10)]\n",
    "\n",
    "print(\"%d events recorded on January 10th\" % len(day_events))\n",
    "\n",
    "# By Index . \n",
    "events.ix[14:16]"
   ]
  },
  {
   "cell_type": "code",
   "execution_count": 6,
   "metadata": {
    "slideshow": {
     "slide_type": "subslide"
    }
   },
   "outputs": [
    {
     "data": {
      "text/html": [
       "<div>\n",
       "<style scoped>\n",
       "    .dataframe tbody tr th:only-of-type {\n",
       "        vertical-align: middle;\n",
       "    }\n",
       "\n",
       "    .dataframe tbody tr th {\n",
       "        vertical-align: top;\n",
       "    }\n",
       "\n",
       "    .dataframe thead th {\n",
       "        text-align: right;\n",
       "    }\n",
       "</style>\n",
       "<table border=\"1\" class=\"dataframe\">\n",
       "  <thead>\n",
       "    <tr style=\"text-align: right;\">\n",
       "      <th></th>\n",
       "      <th>client_uuid</th>\n",
       "      <th>type</th>\n",
       "      <th>doc_type</th>\n",
       "      <th>status</th>\n",
       "    </tr>\n",
       "    <tr>\n",
       "      <th>timestamp</th>\n",
       "      <th></th>\n",
       "      <th></th>\n",
       "      <th></th>\n",
       "      <th></th>\n",
       "    </tr>\n",
       "  </thead>\n",
       "  <tbody>\n",
       "    <tr>\n",
       "      <th>2017-01-10 00:52:53</th>\n",
       "      <td>cf730cf8-df07-421e-930d-96cf30b943d4</td>\n",
       "      <td>DOC</td>\n",
       "      <td>RIB</td>\n",
       "      <td>True</td>\n",
       "    </tr>\n",
       "    <tr>\n",
       "      <th>2017-01-10 02:35:46</th>\n",
       "      <td>aebc927f-c6e1-41b6-ab75-86e595b5d8e1</td>\n",
       "      <td>DOC</td>\n",
       "      <td>RIB</td>\n",
       "      <td>True</td>\n",
       "    </tr>\n",
       "    <tr>\n",
       "      <th>2017-01-10 07:19:55</th>\n",
       "      <td>807c85e3-ac99-4439-b331-e91263757bd0</td>\n",
       "      <td>DOC</td>\n",
       "      <td>RIB</td>\n",
       "      <td>True</td>\n",
       "    </tr>\n",
       "    <tr>\n",
       "      <th>2017-01-10 09:19:18</th>\n",
       "      <td>79e6e17c-c4bf-4e44-b830-f249a41af256</td>\n",
       "      <td>DOC</td>\n",
       "      <td>RIB</td>\n",
       "      <td>True</td>\n",
       "    </tr>\n",
       "    <tr>\n",
       "      <th>2017-01-10 10:18:33</th>\n",
       "      <td>e4f90caf-bfef-4083-b565-f01a4e85aead</td>\n",
       "      <td>DOC</td>\n",
       "      <td>RIB</td>\n",
       "      <td>True</td>\n",
       "    </tr>\n",
       "  </tbody>\n",
       "</table>\n",
       "</div>"
      ],
      "text/plain": [
       "                                              client_uuid type doc_type  \\\n",
       "timestamp                                                                 \n",
       "2017-01-10 00:52:53  cf730cf8-df07-421e-930d-96cf30b943d4  DOC      RIB   \n",
       "2017-01-10 02:35:46  aebc927f-c6e1-41b6-ab75-86e595b5d8e1  DOC      RIB   \n",
       "2017-01-10 07:19:55  807c85e3-ac99-4439-b331-e91263757bd0  DOC      RIB   \n",
       "2017-01-10 09:19:18  79e6e17c-c4bf-4e44-b830-f249a41af256  DOC      RIB   \n",
       "2017-01-10 10:18:33  e4f90caf-bfef-4083-b565-f01a4e85aead  DOC      RIB   \n",
       "\n",
       "                     status  \n",
       "timestamp                    \n",
       "2017-01-10 00:52:53    True  \n",
       "2017-01-10 02:35:46    True  \n",
       "2017-01-10 07:19:55    True  \n",
       "2017-01-10 09:19:18    True  \n",
       "2017-01-10 10:18:33    True  "
      ]
     },
     "execution_count": 6,
     "metadata": {},
     "output_type": "execute_result"
    }
   ],
   "source": [
    "# Pour des requêtes encore plus péchues \n",
    "\n",
    "events.query('doc_type==\"RIB\" & status & index > \"20170110\"').head()\n"
   ]
  },
  {
   "cell_type": "markdown",
   "metadata": {
    "slideshow": {
     "slide_type": "slide"
    }
   },
   "source": [
    "### GroupBy\n",
    "\n",
    "  Tableau croisé dynamique, c'est mieux si on en reste là."
   ]
  },
  {
   "cell_type": "code",
   "execution_count": 7,
   "metadata": {
    "slideshow": {
     "slide_type": "subslide"
    }
   },
   "outputs": [
    {
     "data": {
      "text/html": [
       "<div>\n",
       "<style scoped>\n",
       "    .dataframe tbody tr th:only-of-type {\n",
       "        vertical-align: middle;\n",
       "    }\n",
       "\n",
       "    .dataframe tbody tr th {\n",
       "        vertical-align: top;\n",
       "    }\n",
       "\n",
       "    .dataframe thead th {\n",
       "        text-align: right;\n",
       "    }\n",
       "</style>\n",
       "<table border=\"1\" class=\"dataframe\">\n",
       "  <thead>\n",
       "    <tr style=\"text-align: right;\">\n",
       "      <th></th>\n",
       "      <th></th>\n",
       "      <th>client_uuid</th>\n",
       "      <th>type</th>\n",
       "    </tr>\n",
       "    <tr>\n",
       "      <th>doc_type</th>\n",
       "      <th>status</th>\n",
       "      <th></th>\n",
       "      <th></th>\n",
       "    </tr>\n",
       "  </thead>\n",
       "  <tbody>\n",
       "    <tr>\n",
       "      <th rowspan=\"2\" valign=\"top\">CNI</th>\n",
       "      <th>False</th>\n",
       "      <td>1299</td>\n",
       "      <td>1299</td>\n",
       "    </tr>\n",
       "    <tr>\n",
       "      <th>True</th>\n",
       "      <td>1881</td>\n",
       "      <td>1881</td>\n",
       "    </tr>\n",
       "    <tr>\n",
       "      <th rowspan=\"2\" valign=\"top\">PAYSLIP</th>\n",
       "      <th>False</th>\n",
       "      <td>1172</td>\n",
       "      <td>1172</td>\n",
       "    </tr>\n",
       "    <tr>\n",
       "      <th>True</th>\n",
       "      <td>1866</td>\n",
       "      <td>1866</td>\n",
       "    </tr>\n",
       "    <tr>\n",
       "      <th rowspan=\"2\" valign=\"top\">RIB</th>\n",
       "      <th>False</th>\n",
       "      <td>1894</td>\n",
       "      <td>1894</td>\n",
       "    </tr>\n",
       "    <tr>\n",
       "      <th>True</th>\n",
       "      <td>2854</td>\n",
       "      <td>2854</td>\n",
       "    </tr>\n",
       "    <tr>\n",
       "      <th rowspan=\"2\" valign=\"top\">TAX_NOTICE</th>\n",
       "      <th>False</th>\n",
       "      <td>2497</td>\n",
       "      <td>2497</td>\n",
       "    </tr>\n",
       "    <tr>\n",
       "      <th>True</th>\n",
       "      <td>3719</td>\n",
       "      <td>3719</td>\n",
       "    </tr>\n",
       "  </tbody>\n",
       "</table>\n",
       "</div>"
      ],
      "text/plain": [
       "                   client_uuid  type\n",
       "doc_type   status                   \n",
       "CNI        False          1299  1299\n",
       "           True           1881  1881\n",
       "PAYSLIP    False          1172  1172\n",
       "           True           1866  1866\n",
       "RIB        False          1894  1894\n",
       "           True           2854  2854\n",
       "TAX_NOTICE False          2497  2497\n",
       "           True           3719  3719"
      ]
     },
     "execution_count": 7,
     "metadata": {},
     "output_type": "execute_result"
    }
   ],
   "source": [
    "# comptons les soumissions de documents par type/status. \n",
    "(events.groupby(('doc_type','status')) # groupage imbriqué \n",
    "       .count())   # fonction d'aggregation \n"
   ]
  },
  {
   "cell_type": "code",
   "execution_count": 11,
   "metadata": {
    "slideshow": {
     "slide_type": "subslide"
    }
   },
   "outputs": [
    {
     "data": {
      "text/html": [
       "<div>\n",
       "<style scoped>\n",
       "    .dataframe tbody tr th:only-of-type {\n",
       "        vertical-align: middle;\n",
       "    }\n",
       "\n",
       "    .dataframe tbody tr th {\n",
       "        vertical-align: top;\n",
       "    }\n",
       "\n",
       "    .dataframe thead th {\n",
       "        text-align: right;\n",
       "    }\n",
       "</style>\n",
       "<table border=\"1\" class=\"dataframe\">\n",
       "  <thead>\n",
       "    <tr style=\"text-align: right;\">\n",
       "      <th></th>\n",
       "      <th>client_uuid</th>\n",
       "      <th>type</th>\n",
       "      <th>doc_type</th>\n",
       "      <th>status</th>\n",
       "      <th>timestamp</th>\n",
       "      <th>doc_submission_count</th>\n",
       "      <th>time_since_first</th>\n",
       "    </tr>\n",
       "    <tr>\n",
       "      <th>timestamp</th>\n",
       "      <th></th>\n",
       "      <th></th>\n",
       "      <th></th>\n",
       "      <th></th>\n",
       "      <th></th>\n",
       "      <th></th>\n",
       "      <th></th>\n",
       "    </tr>\n",
       "  </thead>\n",
       "  <tbody>\n",
       "    <tr>\n",
       "      <th>2017-01-01 04:07:02</th>\n",
       "      <td>5ada8b5e-bb71-4bf7-b045-bb69956fa744</td>\n",
       "      <td>DOC</td>\n",
       "      <td>TAX_NOTICE</td>\n",
       "      <td>True</td>\n",
       "      <td>2017-01-01 04:07:02</td>\n",
       "      <td>0</td>\n",
       "      <td>00:00:00</td>\n",
       "    </tr>\n",
       "    <tr>\n",
       "      <th>2017-01-01 04:07:05</th>\n",
       "      <td>5ada8b5e-bb71-4bf7-b045-bb69956fa744</td>\n",
       "      <td>DOC</td>\n",
       "      <td>PAYSLIP</td>\n",
       "      <td>True</td>\n",
       "      <td>2017-01-01 04:07:05</td>\n",
       "      <td>0</td>\n",
       "      <td>00:00:03</td>\n",
       "    </tr>\n",
       "    <tr>\n",
       "      <th>2017-01-01 04:07:06</th>\n",
       "      <td>5ada8b5e-bb71-4bf7-b045-bb69956fa744</td>\n",
       "      <td>SIGNATURE</td>\n",
       "      <td>NO_DOC</td>\n",
       "      <td>True</td>\n",
       "      <td>2017-01-01 04:07:06</td>\n",
       "      <td>0</td>\n",
       "      <td>00:00:04</td>\n",
       "    </tr>\n",
       "    <tr>\n",
       "      <th>2017-01-01 05:32:01</th>\n",
       "      <td>c4837f20-8635-4736-baa9-86f1ca5991a9</td>\n",
       "      <td>DOC</td>\n",
       "      <td>CNI</td>\n",
       "      <td>False</td>\n",
       "      <td>2017-01-01 05:32:01</td>\n",
       "      <td>0</td>\n",
       "      <td>00:00:00</td>\n",
       "    </tr>\n",
       "    <tr>\n",
       "      <th>2017-01-01 05:33:45</th>\n",
       "      <td>c4837f20-8635-4736-baa9-86f1ca5991a9</td>\n",
       "      <td>DOC</td>\n",
       "      <td>CNI</td>\n",
       "      <td>True</td>\n",
       "      <td>2017-01-01 05:33:45</td>\n",
       "      <td>1</td>\n",
       "      <td>00:01:44</td>\n",
       "    </tr>\n",
       "  </tbody>\n",
       "</table>\n",
       "</div>"
      ],
      "text/plain": [
       "                                              client_uuid       type  \\\n",
       "timestamp                                                              \n",
       "2017-01-01 04:07:02  5ada8b5e-bb71-4bf7-b045-bb69956fa744        DOC   \n",
       "2017-01-01 04:07:05  5ada8b5e-bb71-4bf7-b045-bb69956fa744        DOC   \n",
       "2017-01-01 04:07:06  5ada8b5e-bb71-4bf7-b045-bb69956fa744  SIGNATURE   \n",
       "2017-01-01 05:32:01  c4837f20-8635-4736-baa9-86f1ca5991a9        DOC   \n",
       "2017-01-01 05:33:45  c4837f20-8635-4736-baa9-86f1ca5991a9        DOC   \n",
       "\n",
       "                       doc_type  status           timestamp  \\\n",
       "timestamp                                                     \n",
       "2017-01-01 04:07:02  TAX_NOTICE    True 2017-01-01 04:07:02   \n",
       "2017-01-01 04:07:05     PAYSLIP    True 2017-01-01 04:07:05   \n",
       "2017-01-01 04:07:06      NO_DOC    True 2017-01-01 04:07:06   \n",
       "2017-01-01 05:32:01         CNI   False 2017-01-01 05:32:01   \n",
       "2017-01-01 05:33:45         CNI    True 2017-01-01 05:33:45   \n",
       "\n",
       "                     doc_submission_count time_since_first  \n",
       "timestamp                                                   \n",
       "2017-01-01 04:07:02                     0         00:00:00  \n",
       "2017-01-01 04:07:05                     0         00:00:03  \n",
       "2017-01-01 04:07:06                     0         00:00:04  \n",
       "2017-01-01 05:32:01                     0         00:00:00  \n",
       "2017-01-01 05:33:45                     1         00:01:44  "
      ]
     },
     "execution_count": 11,
     "metadata": {},
     "output_type": "execute_result"
    }
   ],
   "source": [
    "# utiliseons groupby pour \"numéroter\" les soumissions par utilisateurs\n",
    "\n",
    "# cleanup\n",
    "events['doc_type'] = events['doc_type'].fillna('NO_DOC')\n",
    "events[\"timestamp\"] = events.index # --- groupby transform pas très heureux avec les index\n",
    "\n",
    "# groupons par dossier, puis chaque document\n",
    "grouped_doc = events.groupby(('client_uuid','doc_type'))\n",
    "\n",
    "# on transforme une colonne. ( Split - apply - combine)\n",
    "events['doc_submission_count'] = grouped_doc[\"timestamp\"].transform(np.argsort)\n",
    "events['time_since_first'] = events.groupby('client_uuid')[\"timestamp\"].transform(lambda ts: ts-ts[0])\n",
    "\n",
    "events.head()"
   ]
  }
 ],
 "metadata": {
  "celltoolbar": "Slideshow",
  "kernelspec": {
   "display_name": "Python 3",
   "language": "python",
   "name": "python3"
  },
  "language_info": {
   "codemirror_mode": {
    "name": "ipython",
    "version": 3
   },
   "file_extension": ".py",
   "mimetype": "text/x-python",
   "name": "python",
   "nbconvert_exporter": "python",
   "pygments_lexer": "ipython3",
   "version": "3.5.3"
  }
 },
 "nbformat": 4,
 "nbformat_minor": 2
}

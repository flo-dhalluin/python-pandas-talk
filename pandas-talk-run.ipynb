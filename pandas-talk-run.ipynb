{
 "cells": [
  {
   "cell_type": "markdown",
   "metadata": {
    "slideshow": {
     "slide_type": "slide"
    }
   },
   "source": [
    "# Python + Pandas is love\n",
    "\n",
    "![Logo Pandas](pics/pandas_logo.png)\n",
    "\n",
    "~~Excel~~ [Pandas](https://pandas.pydata.org/) !\n",
    "\n",
    "<img src=\"pics/logo_sunny.svg\" width=\"33%\" style=\"display:block; margin-left:auto; margin-right:auto\">\n",
    "\n",
    "[Version page web](https://nbviewer.jupyter.org/github/flo-dhalluin/python-pandas-talk/blob/master/pandas-talk-run.ipynb)"
   ]
  },
  {
   "cell_type": "markdown",
   "metadata": {
    "slideshow": {
     "slide_type": "slide"
    }
   },
   "source": [
    "## Le cas d'usage simple : \n",
    "\n",
    "- Valider une intuition\n",
    "- un rapport simple à partir de données brutes\n",
    "- un petit script oneshot vite fait \n"
   ]
  },
  {
   "cell_type": "code",
   "execution_count": 1,
   "metadata": {
    "slideshow": {
     "slide_type": "skip"
    }
   },
   "outputs": [],
   "source": [
    "%matplotlib inline"
   ]
  },
  {
   "cell_type": "markdown",
   "metadata": {
    "slideshow": {
     "slide_type": "slide"
    }
   },
   "source": [
    "## La base\n"
   ]
  },
  {
   "cell_type": "markdown",
   "metadata": {
    "slideshow": {
     "slide_type": "subslide"
    }
   },
   "source": [
    "Sortons les outils : "
   ]
  },
  {
   "cell_type": "code",
   "execution_count": 2,
   "metadata": {
    "slideshow": {
     "slide_type": "-"
    }
   },
   "outputs": [],
   "source": [
    "import pandas as pd \n",
    "import numpy as np"
   ]
  },
  {
   "cell_type": "markdown",
   "metadata": {
    "slideshow": {
     "slide_type": "subslide"
    }
   },
   "source": [
    "### La base : Serie\n",
    "\n",
    "Une série, est une séquence de valeurs, de type homogène (toutes du même type : String, entiers, flotants, dates ... ), __ avec un index __"
   ]
  },
  {
   "cell_type": "code",
   "execution_count": 3,
   "metadata": {
    "slideshow": {
     "slide_type": "-"
    }
   },
   "outputs": [
    {
     "data": {
      "text/plain": [
       "0     6\n",
       "10    5\n",
       "20    4\n",
       "30    3\n",
       "40    2\n",
       "50    1\n",
       "dtype: int64"
      ]
     },
     "execution_count": 3,
     "metadata": {},
     "output_type": "execute_result"
    }
   ],
   "source": [
    "pd.Series([6,5,4,3,2,1], index=10 * np.arange(6)) # index par default : 0, 1 .. \n"
   ]
  },
  {
   "cell_type": "markdown",
   "metadata": {
    "slideshow": {
     "slide_type": "subslide"
    }
   },
   "source": [
    "### La base : Dataframe\n",
    "\n",
    "Un Dataframe, c'est un tableau : \n",
    "- un ensemble de Series, nommées ( les colonnes)\n",
    "- qui partagent un index\n"
   ]
  },
  {
   "cell_type": "code",
   "execution_count": 4,
   "metadata": {
    "slideshow": {
     "slide_type": "-"
    }
   },
   "outputs": [
    {
     "data": {
      "text/html": [
       "<div>\n",
       "<style scoped>\n",
       "    .dataframe tbody tr th:only-of-type {\n",
       "        vertical-align: middle;\n",
       "    }\n",
       "\n",
       "    .dataframe tbody tr th {\n",
       "        vertical-align: top;\n",
       "    }\n",
       "\n",
       "    .dataframe thead th {\n",
       "        text-align: right;\n",
       "    }\n",
       "</style>\n",
       "<table border=\"1\" class=\"dataframe\">\n",
       "  <thead>\n",
       "    <tr style=\"text-align: right;\">\n",
       "      <th></th>\n",
       "      <th>category</th>\n",
       "      <th>time</th>\n",
       "      <th>value</th>\n",
       "    </tr>\n",
       "  </thead>\n",
       "  <tbody>\n",
       "    <tr>\n",
       "      <th>0</th>\n",
       "      <td>a</td>\n",
       "      <td>2018-01-01 00:00:00</td>\n",
       "      <td>0.255940</td>\n",
       "    </tr>\n",
       "    <tr>\n",
       "      <th>1</th>\n",
       "      <td>b</td>\n",
       "      <td>2018-01-01 02:00:00</td>\n",
       "      <td>0.072701</td>\n",
       "    </tr>\n",
       "    <tr>\n",
       "      <th>2</th>\n",
       "      <td>c</td>\n",
       "      <td>2018-01-01 04:00:00</td>\n",
       "      <td>0.705675</td>\n",
       "    </tr>\n",
       "    <tr>\n",
       "      <th>3</th>\n",
       "      <td>d</td>\n",
       "      <td>2018-01-01 06:00:00</td>\n",
       "      <td>0.620034</td>\n",
       "    </tr>\n",
       "    <tr>\n",
       "      <th>4</th>\n",
       "      <td>e</td>\n",
       "      <td>2018-01-01 08:00:00</td>\n",
       "      <td>0.711455</td>\n",
       "    </tr>\n",
       "  </tbody>\n",
       "</table>\n",
       "</div>"
      ],
      "text/plain": [
       "  category                time     value\n",
       "0        a 2018-01-01 00:00:00  0.255940\n",
       "1        b 2018-01-01 02:00:00  0.072701\n",
       "2        c 2018-01-01 04:00:00  0.705675\n",
       "3        d 2018-01-01 06:00:00  0.620034\n",
       "4        e 2018-01-01 08:00:00  0.711455"
      ]
     },
     "execution_count": 4,
     "metadata": {},
     "output_type": "execute_result"
    }
   ],
   "source": [
    "data = pd.DataFrame({\"time\": pd.date_range(\"2018-01-01\", periods=120, freq=\"2H\"),\n",
    "                     \"value\": np.random.random(120),                            \n",
    "                     \"category\": pd.Categorical(list(\"abcdef\" * 20))}) \n",
    "data.head()"
   ]
  },
  {
   "cell_type": "markdown",
   "metadata": {
    "slideshow": {
     "slide_type": "subslide"
    }
   },
   "source": [
    "### La base : Import/Export\n",
    "\n",
    "L'idée étant évidemment d'importer nos données ici, et pas de les générer. Pandas supporte à peu près tout les fichiers formats de données courants :\n",
    "- csv \n",
    "- excel \n",
    "- hdf5 \n",
    "- json/msgpack/parquet\n",
    "\n",
    "_mais aussi_  on peut créer un dataframe directement depuis une requête SQL, ou même Big Query.\n",
    "\n",
    "Nous allons ici utiliser la lingua franca de la data ... LE CSV"
   ]
  },
  {
   "cell_type": "code",
   "execution_count": 5,
   "metadata": {
    "slideshow": {
     "slide_type": "subslide"
    }
   },
   "outputs": [
    {
     "data": {
      "text/html": [
       "<div>\n",
       "<style scoped>\n",
       "    .dataframe tbody tr th:only-of-type {\n",
       "        vertical-align: middle;\n",
       "    }\n",
       "\n",
       "    .dataframe tbody tr th {\n",
       "        vertical-align: top;\n",
       "    }\n",
       "\n",
       "    .dataframe thead th {\n",
       "        text-align: right;\n",
       "    }\n",
       "</style>\n",
       "<table border=\"1\" class=\"dataframe\">\n",
       "  <thead>\n",
       "    <tr style=\"text-align: right;\">\n",
       "      <th></th>\n",
       "      <th>client_uuid</th>\n",
       "      <th>type</th>\n",
       "      <th>doc_type</th>\n",
       "      <th>status</th>\n",
       "    </tr>\n",
       "    <tr>\n",
       "      <th>timestamp</th>\n",
       "      <th></th>\n",
       "      <th></th>\n",
       "      <th></th>\n",
       "      <th></th>\n",
       "    </tr>\n",
       "  </thead>\n",
       "  <tbody>\n",
       "    <tr>\n",
       "      <th>2017-01-01 00:49:35</th>\n",
       "      <td>b31c08b3-f68d-47f2-9e32-bc63a4f2569c</td>\n",
       "      <td>DOC</td>\n",
       "      <td>RIB</td>\n",
       "      <td>True</td>\n",
       "    </tr>\n",
       "    <tr>\n",
       "      <th>2017-01-01 00:52:45</th>\n",
       "      <td>b31c08b3-f68d-47f2-9e32-bc63a4f2569c</td>\n",
       "      <td>DOC</td>\n",
       "      <td>CNI</td>\n",
       "      <td>True</td>\n",
       "    </tr>\n",
       "    <tr>\n",
       "      <th>2017-01-01 00:55:10</th>\n",
       "      <td>b31c08b3-f68d-47f2-9e32-bc63a4f2569c</td>\n",
       "      <td>DOC</td>\n",
       "      <td>PAYSLIP</td>\n",
       "      <td>False</td>\n",
       "    </tr>\n",
       "    <tr>\n",
       "      <th>2017-01-01 00:55:47</th>\n",
       "      <td>b31c08b3-f68d-47f2-9e32-bc63a4f2569c</td>\n",
       "      <td>DOC</td>\n",
       "      <td>PAYSLIP</td>\n",
       "      <td>True</td>\n",
       "    </tr>\n",
       "    <tr>\n",
       "      <th>2017-01-01 00:56:05</th>\n",
       "      <td>b31c08b3-f68d-47f2-9e32-bc63a4f2569c</td>\n",
       "      <td>SIGNATURE</td>\n",
       "      <td>NaN</td>\n",
       "      <td>True</td>\n",
       "    </tr>\n",
       "  </tbody>\n",
       "</table>\n",
       "</div>"
      ],
      "text/plain": [
       "                                              client_uuid       type doc_type  \\\n",
       "timestamp                                                                       \n",
       "2017-01-01 00:49:35  b31c08b3-f68d-47f2-9e32-bc63a4f2569c        DOC      RIB   \n",
       "2017-01-01 00:52:45  b31c08b3-f68d-47f2-9e32-bc63a4f2569c        DOC      CNI   \n",
       "2017-01-01 00:55:10  b31c08b3-f68d-47f2-9e32-bc63a4f2569c        DOC  PAYSLIP   \n",
       "2017-01-01 00:55:47  b31c08b3-f68d-47f2-9e32-bc63a4f2569c        DOC  PAYSLIP   \n",
       "2017-01-01 00:56:05  b31c08b3-f68d-47f2-9e32-bc63a4f2569c  SIGNATURE      NaN   \n",
       "\n",
       "                     status  \n",
       "timestamp                    \n",
       "2017-01-01 00:49:35    True  \n",
       "2017-01-01 00:52:45    True  \n",
       "2017-01-01 00:55:10   False  \n",
       "2017-01-01 00:55:47    True  \n",
       "2017-01-01 00:56:05    True  "
      ]
     },
     "execution_count": 5,
     "metadata": {},
     "output_type": "execute_result"
    }
   ],
   "source": [
    "events = pd.read_csv(\"events.csv\", \n",
    "                     delimiter=\";\", \n",
    "                     index_col=0,\n",
    "                     parse_dates=True) # auto magie. \n",
    "events.sort_index(inplace=True)\n",
    "events.head(5)"
   ]
  },
  {
   "cell_type": "markdown",
   "metadata": {
    "slideshow": {
     "slide_type": "subslide"
    }
   },
   "source": [
    "Une petite vérif rapido :"
   ]
  },
  {
   "cell_type": "code",
   "execution_count": 6,
   "metadata": {},
   "outputs": [
    {
     "data": {
      "text/html": [
       "<div>\n",
       "<style scoped>\n",
       "    .dataframe tbody tr th:only-of-type {\n",
       "        vertical-align: middle;\n",
       "    }\n",
       "\n",
       "    .dataframe tbody tr th {\n",
       "        vertical-align: top;\n",
       "    }\n",
       "\n",
       "    .dataframe thead th {\n",
       "        text-align: right;\n",
       "    }\n",
       "</style>\n",
       "<table border=\"1\" class=\"dataframe\">\n",
       "  <thead>\n",
       "    <tr style=\"text-align: right;\">\n",
       "      <th></th>\n",
       "      <th>client_uuid</th>\n",
       "      <th>type</th>\n",
       "      <th>doc_type</th>\n",
       "      <th>status</th>\n",
       "    </tr>\n",
       "  </thead>\n",
       "  <tbody>\n",
       "    <tr>\n",
       "      <th>count</th>\n",
       "      <td>23518</td>\n",
       "      <td>23518</td>\n",
       "      <td>18755</td>\n",
       "      <td>23518</td>\n",
       "    </tr>\n",
       "    <tr>\n",
       "      <th>unique</th>\n",
       "      <td>5000</td>\n",
       "      <td>2</td>\n",
       "      <td>4</td>\n",
       "      <td>2</td>\n",
       "    </tr>\n",
       "    <tr>\n",
       "      <th>top</th>\n",
       "      <td>e310f451-8c44-4743-9bbc-6ea301205fef</td>\n",
       "      <td>DOC</td>\n",
       "      <td>RIB</td>\n",
       "      <td>True</td>\n",
       "    </tr>\n",
       "    <tr>\n",
       "      <th>freq</th>\n",
       "      <td>10</td>\n",
       "      <td>18755</td>\n",
       "      <td>7748</td>\n",
       "      <td>16036</td>\n",
       "    </tr>\n",
       "  </tbody>\n",
       "</table>\n",
       "</div>"
      ],
      "text/plain": [
       "                                 client_uuid   type doc_type status\n",
       "count                                  23518  23518    18755  23518\n",
       "unique                                  5000      2        4      2\n",
       "top     e310f451-8c44-4743-9bbc-6ea301205fef    DOC      RIB   True\n",
       "freq                                      10  18755     7748  16036"
      ]
     },
     "execution_count": 6,
     "metadata": {},
     "output_type": "execute_result"
    }
   ],
   "source": [
    "events.describe()"
   ]
  },
  {
   "cell_type": "markdown",
   "metadata": {},
   "source": [
    "4 valeurs possibles pour doc_type et beaucoup de \"non-valeurs\" pour doc_type donc : \n",
    "on nettoye tout ça. "
   ]
  },
  {
   "cell_type": "code",
   "execution_count": 7,
   "metadata": {
    "slideshow": {
     "slide_type": "-"
    }
   },
   "outputs": [],
   "source": [
    "events.type = events.type.astype(\"category\")\n",
    "events.doc_type = events.doc_type.fillna(\"UNKNOWN\").astype(\"category\")"
   ]
  },
  {
   "cell_type": "markdown",
   "metadata": {
    "slideshow": {
     "slide_type": "slide"
    }
   },
   "source": [
    "\n",
    "### Le problème\n",
    "Nous voudrions compiler un peu des stats sur le nombre de soumission, par type de document ... ( combien de soumission par dossier / type de document, le timing .. )\n"
   ]
  },
  {
   "cell_type": "markdown",
   "metadata": {
    "slideshow": {
     "slide_type": "subslide"
    }
   },
   "source": [
    "### Requêtes simples : par index\n",
    "\n",
    "<font color=\"red\"> Bon gros warning :   l'opérateur `[]` est contre-intuitif. </font>\n",
    "\n",
    "\n",
    "Pour retrouver des lignes par index :  c'est `.iloc` (index numérique ) ou `.loc` (index déclaré )"
   ]
  },
  {
   "cell_type": "code",
   "execution_count": 8,
   "metadata": {
    "slideshow": {
     "slide_type": "subslide"
    }
   },
   "outputs": [
    {
     "data": {
      "text/plain": [
       "client_uuid    257997a7-bdc8-4435-9807-3e0bfe898acd\n",
       "type                                            DOC\n",
       "doc_type                                    PAYSLIP\n",
       "status                                         True\n",
       "Name: 2017-01-01 15:06:07, dtype: object"
      ]
     },
     "execution_count": 8,
     "metadata": {},
     "output_type": "execute_result"
    }
   ],
   "source": [
    "events.iloc[241]  # par index de la ligne"
   ]
  },
  {
   "cell_type": "markdown",
   "metadata": {
    "slideshow": {
     "slide_type": "-"
    }
   },
   "source": [
    "avec la syntaxe slice de python : (rappel : l'index est le timestamp)"
   ]
  },
  {
   "cell_type": "code",
   "execution_count": 9,
   "metadata": {
    "slideshow": {
     "slide_type": "-"
    }
   },
   "outputs": [
    {
     "data": {
      "text/html": [
       "<div>\n",
       "<style scoped>\n",
       "    .dataframe tbody tr th:only-of-type {\n",
       "        vertical-align: middle;\n",
       "    }\n",
       "\n",
       "    .dataframe tbody tr th {\n",
       "        vertical-align: top;\n",
       "    }\n",
       "\n",
       "    .dataframe thead th {\n",
       "        text-align: right;\n",
       "    }\n",
       "</style>\n",
       "<table border=\"1\" class=\"dataframe\">\n",
       "  <thead>\n",
       "    <tr style=\"text-align: right;\">\n",
       "      <th></th>\n",
       "      <th>client_uuid</th>\n",
       "      <th>type</th>\n",
       "      <th>doc_type</th>\n",
       "      <th>status</th>\n",
       "    </tr>\n",
       "    <tr>\n",
       "      <th>timestamp</th>\n",
       "      <th></th>\n",
       "      <th></th>\n",
       "      <th></th>\n",
       "      <th></th>\n",
       "    </tr>\n",
       "  </thead>\n",
       "  <tbody>\n",
       "    <tr>\n",
       "      <th>2017-01-10 00:05:39</th>\n",
       "      <td>5fdecb46-0439-4c83-bcbc-d4ea421dcef2</td>\n",
       "      <td>SIGNATURE</td>\n",
       "      <td>UNKNOWN</td>\n",
       "      <td>True</td>\n",
       "    </tr>\n",
       "    <tr>\n",
       "      <th>2017-01-10 00:15:40</th>\n",
       "      <td>ca1b85f1-3e79-45cc-9c40-0b44945de1a1</td>\n",
       "      <td>DOC</td>\n",
       "      <td>RIB</td>\n",
       "      <td>True</td>\n",
       "    </tr>\n",
       "    <tr>\n",
       "      <th>2017-01-10 00:16:43</th>\n",
       "      <td>ca1b85f1-3e79-45cc-9c40-0b44945de1a1</td>\n",
       "      <td>DOC</td>\n",
       "      <td>TAX_NOTICE</td>\n",
       "      <td>True</td>\n",
       "    </tr>\n",
       "    <tr>\n",
       "      <th>2017-01-10 00:20:43</th>\n",
       "      <td>ca1b85f1-3e79-45cc-9c40-0b44945de1a1</td>\n",
       "      <td>SIGNATURE</td>\n",
       "      <td>UNKNOWN</td>\n",
       "      <td>True</td>\n",
       "    </tr>\n",
       "  </tbody>\n",
       "</table>\n",
       "</div>"
      ],
      "text/plain": [
       "                                              client_uuid       type  \\\n",
       "timestamp                                                              \n",
       "2017-01-10 00:05:39  5fdecb46-0439-4c83-bcbc-d4ea421dcef2  SIGNATURE   \n",
       "2017-01-10 00:15:40  ca1b85f1-3e79-45cc-9c40-0b44945de1a1        DOC   \n",
       "2017-01-10 00:16:43  ca1b85f1-3e79-45cc-9c40-0b44945de1a1        DOC   \n",
       "2017-01-10 00:20:43  ca1b85f1-3e79-45cc-9c40-0b44945de1a1  SIGNATURE   \n",
       "\n",
       "                       doc_type  status  \n",
       "timestamp                                \n",
       "2017-01-10 00:05:39     UNKNOWN    True  \n",
       "2017-01-10 00:15:40         RIB    True  \n",
       "2017-01-10 00:16:43  TAX_NOTICE    True  \n",
       "2017-01-10 00:20:43     UNKNOWN    True  "
      ]
     },
     "execution_count": 9,
     "metadata": {},
     "output_type": "execute_result"
    }
   ],
   "source": [
    "# Tous les évenements du 10 janvier au 11 janvier (exclus)\n",
    "events.loc['2017-01-10':'2017-01-11'].head(4)"
   ]
  },
  {
   "cell_type": "markdown",
   "metadata": {
    "slideshow": {
     "slide_type": "subslide"
    }
   },
   "source": [
    "En fait Il y a 2 cas d'usages pour `[]` \n",
    "\n",
    "selection d'une ou plusieurs colonnes :\n",
    "\n"
   ]
  },
  {
   "cell_type": "code",
   "execution_count": 10,
   "metadata": {},
   "outputs": [
    {
     "data": {
      "text/html": [
       "<div>\n",
       "<style scoped>\n",
       "    .dataframe tbody tr th:only-of-type {\n",
       "        vertical-align: middle;\n",
       "    }\n",
       "\n",
       "    .dataframe tbody tr th {\n",
       "        vertical-align: top;\n",
       "    }\n",
       "\n",
       "    .dataframe thead th {\n",
       "        text-align: right;\n",
       "    }\n",
       "</style>\n",
       "<table border=\"1\" class=\"dataframe\">\n",
       "  <thead>\n",
       "    <tr style=\"text-align: right;\">\n",
       "      <th></th>\n",
       "      <th>doc_type</th>\n",
       "      <th>status</th>\n",
       "    </tr>\n",
       "    <tr>\n",
       "      <th>timestamp</th>\n",
       "      <th></th>\n",
       "      <th></th>\n",
       "    </tr>\n",
       "  </thead>\n",
       "  <tbody>\n",
       "    <tr>\n",
       "      <th>2017-01-01 00:49:35</th>\n",
       "      <td>RIB</td>\n",
       "      <td>True</td>\n",
       "    </tr>\n",
       "    <tr>\n",
       "      <th>2017-01-01 00:52:45</th>\n",
       "      <td>CNI</td>\n",
       "      <td>True</td>\n",
       "    </tr>\n",
       "    <tr>\n",
       "      <th>2017-01-01 00:55:10</th>\n",
       "      <td>PAYSLIP</td>\n",
       "      <td>False</td>\n",
       "    </tr>\n",
       "    <tr>\n",
       "      <th>2017-01-01 00:55:47</th>\n",
       "      <td>PAYSLIP</td>\n",
       "      <td>True</td>\n",
       "    </tr>\n",
       "    <tr>\n",
       "      <th>2017-01-01 00:56:05</th>\n",
       "      <td>UNKNOWN</td>\n",
       "      <td>True</td>\n",
       "    </tr>\n",
       "  </tbody>\n",
       "</table>\n",
       "</div>"
      ],
      "text/plain": [
       "                    doc_type  status\n",
       "timestamp                           \n",
       "2017-01-01 00:49:35      RIB    True\n",
       "2017-01-01 00:52:45      CNI    True\n",
       "2017-01-01 00:55:10  PAYSLIP   False\n",
       "2017-01-01 00:55:47  PAYSLIP    True\n",
       "2017-01-01 00:56:05  UNKNOWN    True"
      ]
     },
     "execution_count": 10,
     "metadata": {},
     "output_type": "execute_result"
    }
   ],
   "source": [
    "events[[\"doc_type\", \"status\"]].head()"
   ]
  },
  {
   "cell_type": "markdown",
   "metadata": {
    "slideshow": {
     "slide_type": "subslide"
    }
   },
   "source": [
    "Ou pour __filtrer__ : avec une série de booléens"
   ]
  },
  {
   "cell_type": "code",
   "execution_count": 11,
   "metadata": {},
   "outputs": [
    {
     "data": {
      "text/html": [
       "<div>\n",
       "<style scoped>\n",
       "    .dataframe tbody tr th:only-of-type {\n",
       "        vertical-align: middle;\n",
       "    }\n",
       "\n",
       "    .dataframe tbody tr th {\n",
       "        vertical-align: top;\n",
       "    }\n",
       "\n",
       "    .dataframe thead th {\n",
       "        text-align: right;\n",
       "    }\n",
       "</style>\n",
       "<table border=\"1\" class=\"dataframe\">\n",
       "  <thead>\n",
       "    <tr style=\"text-align: right;\">\n",
       "      <th></th>\n",
       "      <th>client_uuid</th>\n",
       "      <th>type</th>\n",
       "      <th>doc_type</th>\n",
       "      <th>status</th>\n",
       "    </tr>\n",
       "    <tr>\n",
       "      <th>timestamp</th>\n",
       "      <th></th>\n",
       "      <th></th>\n",
       "      <th></th>\n",
       "      <th></th>\n",
       "    </tr>\n",
       "  </thead>\n",
       "  <tbody>\n",
       "    <tr>\n",
       "      <th>2017-01-10 01:36:33</th>\n",
       "      <td>b445a26e-5987-4ad7-84dd-f99413c51526</td>\n",
       "      <td>DOC</td>\n",
       "      <td>CNI</td>\n",
       "      <td>True</td>\n",
       "    </tr>\n",
       "    <tr>\n",
       "      <th>2017-01-10 05:26:02</th>\n",
       "      <td>d961ac22-d956-4ebd-a8d8-2ad44faa073d</td>\n",
       "      <td>DOC</td>\n",
       "      <td>CNI</td>\n",
       "      <td>False</td>\n",
       "    </tr>\n",
       "    <tr>\n",
       "      <th>2017-01-10 05:30:44</th>\n",
       "      <td>d961ac22-d956-4ebd-a8d8-2ad44faa073d</td>\n",
       "      <td>DOC</td>\n",
       "      <td>CNI</td>\n",
       "      <td>True</td>\n",
       "    </tr>\n",
       "    <tr>\n",
       "      <th>2017-01-10 07:48:47</th>\n",
       "      <td>c2e208fb-d3cb-42a0-85d8-8a5770dc1c0c</td>\n",
       "      <td>DOC</td>\n",
       "      <td>CNI</td>\n",
       "      <td>True</td>\n",
       "    </tr>\n",
       "    <tr>\n",
       "      <th>2017-01-10 08:58:35</th>\n",
       "      <td>86a07ade-da8d-43d8-a259-c9d4d08f3513</td>\n",
       "      <td>DOC</td>\n",
       "      <td>CNI</td>\n",
       "      <td>False</td>\n",
       "    </tr>\n",
       "  </tbody>\n",
       "</table>\n",
       "</div>"
      ],
      "text/plain": [
       "                                              client_uuid type doc_type  \\\n",
       "timestamp                                                                 \n",
       "2017-01-10 01:36:33  b445a26e-5987-4ad7-84dd-f99413c51526  DOC      CNI   \n",
       "2017-01-10 05:26:02  d961ac22-d956-4ebd-a8d8-2ad44faa073d  DOC      CNI   \n",
       "2017-01-10 05:30:44  d961ac22-d956-4ebd-a8d8-2ad44faa073d  DOC      CNI   \n",
       "2017-01-10 07:48:47  c2e208fb-d3cb-42a0-85d8-8a5770dc1c0c  DOC      CNI   \n",
       "2017-01-10 08:58:35  86a07ade-da8d-43d8-a259-c9d4d08f3513  DOC      CNI   \n",
       "\n",
       "                     status  \n",
       "timestamp                    \n",
       "2017-01-10 01:36:33    True  \n",
       "2017-01-10 05:26:02   False  \n",
       "2017-01-10 05:30:44    True  \n",
       "2017-01-10 07:48:47    True  \n",
       "2017-01-10 08:58:35   False  "
      ]
     },
     "execution_count": 11,
     "metadata": {},
     "output_type": "execute_result"
    }
   ],
   "source": [
    "import datetime\n",
    "# Les events concernant des CNI, le 10 janvier\n",
    "(events[ (events.doc_type == \"CNI\") \n",
    "       & (events.index.date == datetime.date(2017, 1, 10)) ]\n",
    "       .head(5))\n"
   ]
  },
  {
   "cell_type": "markdown",
   "metadata": {
    "slideshow": {
     "slide_type": "subslide"
    }
   },
   "source": [
    "Ou encore `query()` qui est parfois plus lisible, et plus puissante :"
   ]
  },
  {
   "cell_type": "code",
   "execution_count": 12,
   "metadata": {
    "slideshow": {
     "slide_type": "-"
    }
   },
   "outputs": [
    {
     "data": {
      "text/html": [
       "<div>\n",
       "<style scoped>\n",
       "    .dataframe tbody tr th:only-of-type {\n",
       "        vertical-align: middle;\n",
       "    }\n",
       "\n",
       "    .dataframe tbody tr th {\n",
       "        vertical-align: top;\n",
       "    }\n",
       "\n",
       "    .dataframe thead th {\n",
       "        text-align: right;\n",
       "    }\n",
       "</style>\n",
       "<table border=\"1\" class=\"dataframe\">\n",
       "  <thead>\n",
       "    <tr style=\"text-align: right;\">\n",
       "      <th></th>\n",
       "      <th>client_uuid</th>\n",
       "      <th>type</th>\n",
       "      <th>doc_type</th>\n",
       "      <th>status</th>\n",
       "    </tr>\n",
       "    <tr>\n",
       "      <th>timestamp</th>\n",
       "      <th></th>\n",
       "      <th></th>\n",
       "      <th></th>\n",
       "      <th></th>\n",
       "    </tr>\n",
       "  </thead>\n",
       "  <tbody>\n",
       "    <tr>\n",
       "      <th>2017-01-01 06:17:41</th>\n",
       "      <td>0417341e-9ea3-4cb0-9e2b-bb8765ab65f5</td>\n",
       "      <td>DOC</td>\n",
       "      <td>CNI</td>\n",
       "      <td>False</td>\n",
       "    </tr>\n",
       "    <tr>\n",
       "      <th>2017-01-01 11:41:00</th>\n",
       "      <td>57644be9-6533-40ea-ad2f-09be119b87f1</td>\n",
       "      <td>DOC</td>\n",
       "      <td>CNI</td>\n",
       "      <td>False</td>\n",
       "    </tr>\n",
       "    <tr>\n",
       "      <th>2017-01-01 11:41:31</th>\n",
       "      <td>57644be9-6533-40ea-ad2f-09be119b87f1</td>\n",
       "      <td>DOC</td>\n",
       "      <td>CNI</td>\n",
       "      <td>False</td>\n",
       "    </tr>\n",
       "    <tr>\n",
       "      <th>2017-01-01 12:07:35</th>\n",
       "      <td>feaa9113-5f8f-49a9-89c2-b020b5f070eb</td>\n",
       "      <td>DOC</td>\n",
       "      <td>CNI</td>\n",
       "      <td>False</td>\n",
       "    </tr>\n",
       "    <tr>\n",
       "      <th>2017-01-01 12:08:06</th>\n",
       "      <td>feaa9113-5f8f-49a9-89c2-b020b5f070eb</td>\n",
       "      <td>DOC</td>\n",
       "      <td>CNI</td>\n",
       "      <td>False</td>\n",
       "    </tr>\n",
       "  </tbody>\n",
       "</table>\n",
       "</div>"
      ],
      "text/plain": [
       "                                              client_uuid type doc_type  \\\n",
       "timestamp                                                                 \n",
       "2017-01-01 06:17:41  0417341e-9ea3-4cb0-9e2b-bb8765ab65f5  DOC      CNI   \n",
       "2017-01-01 11:41:00  57644be9-6533-40ea-ad2f-09be119b87f1  DOC      CNI   \n",
       "2017-01-01 11:41:31  57644be9-6533-40ea-ad2f-09be119b87f1  DOC      CNI   \n",
       "2017-01-01 12:07:35  feaa9113-5f8f-49a9-89c2-b020b5f070eb  DOC      CNI   \n",
       "2017-01-01 12:08:06  feaa9113-5f8f-49a9-89c2-b020b5f070eb  DOC      CNI   \n",
       "\n",
       "                     status  \n",
       "timestamp                    \n",
       "2017-01-01 06:17:41   False  \n",
       "2017-01-01 11:41:00   False  \n",
       "2017-01-01 11:41:31   False  \n",
       "2017-01-01 12:07:35   False  \n",
       "2017-01-01 12:08:06   False  "
      ]
     },
     "execution_count": 12,
     "metadata": {},
     "output_type": "execute_result"
    }
   ],
   "source": [
    "# un peu plus lisible : les CNI avant le 10 janvier,\n",
    "# en erreur ( status : False)\n",
    "(events.query('doc_type==\"CNI\" & index < \"20170110\" & ~status')\n",
    "      .head())"
   ]
  },
  {
   "cell_type": "markdown",
   "metadata": {
    "slideshow": {
     "slide_type": "slide"
    }
   },
   "source": [
    "## GroupBy\n",
    "\n",
    "> Tableau croisé dynamique, c'est mieux si on en reste là.\n",
    "\n",
    "Passons dans le vif du sujet, et moulinons un peu nos datas..."
   ]
  },
  {
   "cell_type": "markdown",
   "metadata": {
    "slideshow": {
     "slide_type": "subslide"
    }
   },
   "source": [
    "![groupby](./pics/groupby.svg.png)"
   ]
  },
  {
   "cell_type": "code",
   "execution_count": 13,
   "metadata": {
    "slideshow": {
     "slide_type": "skip"
    }
   },
   "outputs": [],
   "source": [
    "events[\"timestamp\"] = events.index # je crée une colonne ( l'index est perdu dans un groupby )"
   ]
  },
  {
   "cell_type": "code",
   "execution_count": 14,
   "metadata": {
    "slideshow": {
     "slide_type": "subslide"
    }
   },
   "outputs": [
    {
     "data": {
      "text/html": [
       "<div>\n",
       "<style scoped>\n",
       "    .dataframe tbody tr th:only-of-type {\n",
       "        vertical-align: middle;\n",
       "    }\n",
       "\n",
       "    .dataframe tbody tr th {\n",
       "        vertical-align: top;\n",
       "    }\n",
       "\n",
       "    .dataframe thead th {\n",
       "        text-align: right;\n",
       "    }\n",
       "</style>\n",
       "<table border=\"1\" class=\"dataframe\">\n",
       "  <thead>\n",
       "    <tr style=\"text-align: right;\">\n",
       "      <th></th>\n",
       "      <th>client_uuid</th>\n",
       "      <th>type</th>\n",
       "      <th>doc_type</th>\n",
       "      <th>status</th>\n",
       "      <th>timestamp</th>\n",
       "      <th>submission_idx</th>\n",
       "    </tr>\n",
       "    <tr>\n",
       "      <th>timestamp</th>\n",
       "      <th></th>\n",
       "      <th></th>\n",
       "      <th></th>\n",
       "      <th></th>\n",
       "      <th></th>\n",
       "      <th></th>\n",
       "    </tr>\n",
       "  </thead>\n",
       "  <tbody>\n",
       "    <tr>\n",
       "      <th>2017-01-01 00:49:35</th>\n",
       "      <td>b31c08b3-f68d-47f2-9e32-bc63a4f2569c</td>\n",
       "      <td>DOC</td>\n",
       "      <td>RIB</td>\n",
       "      <td>True</td>\n",
       "      <td>2017-01-01 00:49:35</td>\n",
       "      <td>0</td>\n",
       "    </tr>\n",
       "    <tr>\n",
       "      <th>2017-01-01 00:52:45</th>\n",
       "      <td>b31c08b3-f68d-47f2-9e32-bc63a4f2569c</td>\n",
       "      <td>DOC</td>\n",
       "      <td>CNI</td>\n",
       "      <td>True</td>\n",
       "      <td>2017-01-01 00:52:45</td>\n",
       "      <td>0</td>\n",
       "    </tr>\n",
       "    <tr>\n",
       "      <th>2017-01-01 00:55:10</th>\n",
       "      <td>b31c08b3-f68d-47f2-9e32-bc63a4f2569c</td>\n",
       "      <td>DOC</td>\n",
       "      <td>PAYSLIP</td>\n",
       "      <td>False</td>\n",
       "      <td>2017-01-01 00:55:10</td>\n",
       "      <td>0</td>\n",
       "    </tr>\n",
       "    <tr>\n",
       "      <th>2017-01-01 00:55:47</th>\n",
       "      <td>b31c08b3-f68d-47f2-9e32-bc63a4f2569c</td>\n",
       "      <td>DOC</td>\n",
       "      <td>PAYSLIP</td>\n",
       "      <td>True</td>\n",
       "      <td>2017-01-01 00:55:47</td>\n",
       "      <td>1</td>\n",
       "    </tr>\n",
       "    <tr>\n",
       "      <th>2017-01-01 00:56:05</th>\n",
       "      <td>b31c08b3-f68d-47f2-9e32-bc63a4f2569c</td>\n",
       "      <td>SIGNATURE</td>\n",
       "      <td>UNKNOWN</td>\n",
       "      <td>True</td>\n",
       "      <td>2017-01-01 00:56:05</td>\n",
       "      <td>0</td>\n",
       "    </tr>\n",
       "  </tbody>\n",
       "</table>\n",
       "</div>"
      ],
      "text/plain": [
       "                                              client_uuid       type doc_type  \\\n",
       "timestamp                                                                       \n",
       "2017-01-01 00:49:35  b31c08b3-f68d-47f2-9e32-bc63a4f2569c        DOC      RIB   \n",
       "2017-01-01 00:52:45  b31c08b3-f68d-47f2-9e32-bc63a4f2569c        DOC      CNI   \n",
       "2017-01-01 00:55:10  b31c08b3-f68d-47f2-9e32-bc63a4f2569c        DOC  PAYSLIP   \n",
       "2017-01-01 00:55:47  b31c08b3-f68d-47f2-9e32-bc63a4f2569c        DOC  PAYSLIP   \n",
       "2017-01-01 00:56:05  b31c08b3-f68d-47f2-9e32-bc63a4f2569c  SIGNATURE  UNKNOWN   \n",
       "\n",
       "                     status           timestamp  submission_idx  \n",
       "timestamp                                                        \n",
       "2017-01-01 00:49:35    True 2017-01-01 00:49:35               0  \n",
       "2017-01-01 00:52:45    True 2017-01-01 00:52:45               0  \n",
       "2017-01-01 00:55:10   False 2017-01-01 00:55:10               0  \n",
       "2017-01-01 00:55:47    True 2017-01-01 00:55:47               1  \n",
       "2017-01-01 00:56:05    True 2017-01-01 00:56:05               0  "
      ]
     },
     "execution_count": 14,
     "metadata": {},
     "output_type": "execute_result"
    }
   ],
   "source": [
    "events[\"submission_idx\"] = (events.groupby((\"client_uuid\", \"doc_type\"))\n",
    "                                  [\"timestamp\"]\n",
    "                                  .transform(np.argsort))\n",
    "events.head()"
   ]
  },
  {
   "cell_type": "markdown",
   "metadata": {
    "slideshow": {
     "slide_type": "subslide"
    }
   },
   "source": [
    "Cette fois ci, je veux calculer le temps passé par utilisateur _depuis le premier évenement lié à cet utilisateur_"
   ]
  },
  {
   "cell_type": "code",
   "execution_count": 15,
   "metadata": {
    "slideshow": {
     "slide_type": "-"
    }
   },
   "outputs": [
    {
     "data": {
      "text/html": [
       "<div>\n",
       "<style scoped>\n",
       "    .dataframe tbody tr th:only-of-type {\n",
       "        vertical-align: middle;\n",
       "    }\n",
       "\n",
       "    .dataframe tbody tr th {\n",
       "        vertical-align: top;\n",
       "    }\n",
       "\n",
       "    .dataframe thead th {\n",
       "        text-align: right;\n",
       "    }\n",
       "</style>\n",
       "<table border=\"1\" class=\"dataframe\">\n",
       "  <thead>\n",
       "    <tr style=\"text-align: right;\">\n",
       "      <th></th>\n",
       "      <th>client_uuid</th>\n",
       "      <th>type</th>\n",
       "      <th>doc_type</th>\n",
       "      <th>status</th>\n",
       "      <th>timestamp</th>\n",
       "      <th>submission_idx</th>\n",
       "      <th>time_since_first</th>\n",
       "    </tr>\n",
       "    <tr>\n",
       "      <th>timestamp</th>\n",
       "      <th></th>\n",
       "      <th></th>\n",
       "      <th></th>\n",
       "      <th></th>\n",
       "      <th></th>\n",
       "      <th></th>\n",
       "      <th></th>\n",
       "    </tr>\n",
       "  </thead>\n",
       "  <tbody>\n",
       "    <tr>\n",
       "      <th>2017-01-06 20:03:21</th>\n",
       "      <td>000f4284-fda0-4a9a-88d7-f0b8c1c29d5a</td>\n",
       "      <td>DOC</td>\n",
       "      <td>CNI</td>\n",
       "      <td>True</td>\n",
       "      <td>2017-01-06 20:03:21</td>\n",
       "      <td>0</td>\n",
       "      <td>00:00:00</td>\n",
       "    </tr>\n",
       "    <tr>\n",
       "      <th>2017-01-06 20:05:52</th>\n",
       "      <td>000f4284-fda0-4a9a-88d7-f0b8c1c29d5a</td>\n",
       "      <td>DOC</td>\n",
       "      <td>PAYSLIP</td>\n",
       "      <td>False</td>\n",
       "      <td>2017-01-06 20:05:52</td>\n",
       "      <td>0</td>\n",
       "      <td>00:02:31</td>\n",
       "    </tr>\n",
       "    <tr>\n",
       "      <th>2017-01-06 20:06:52</th>\n",
       "      <td>000f4284-fda0-4a9a-88d7-f0b8c1c29d5a</td>\n",
       "      <td>DOC</td>\n",
       "      <td>PAYSLIP</td>\n",
       "      <td>True</td>\n",
       "      <td>2017-01-06 20:06:52</td>\n",
       "      <td>1</td>\n",
       "      <td>00:03:31</td>\n",
       "    </tr>\n",
       "    <tr>\n",
       "      <th>2017-01-06 20:09:42</th>\n",
       "      <td>000f4284-fda0-4a9a-88d7-f0b8c1c29d5a</td>\n",
       "      <td>DOC</td>\n",
       "      <td>RIB</td>\n",
       "      <td>True</td>\n",
       "      <td>2017-01-06 20:09:42</td>\n",
       "      <td>0</td>\n",
       "      <td>00:06:21</td>\n",
       "    </tr>\n",
       "    <tr>\n",
       "      <th>2017-01-06 20:19:04</th>\n",
       "      <td>000f4284-fda0-4a9a-88d7-f0b8c1c29d5a</td>\n",
       "      <td>SIGNATURE</td>\n",
       "      <td>UNKNOWN</td>\n",
       "      <td>True</td>\n",
       "      <td>2017-01-06 20:19:04</td>\n",
       "      <td>0</td>\n",
       "      <td>00:15:43</td>\n",
       "    </tr>\n",
       "  </tbody>\n",
       "</table>\n",
       "</div>"
      ],
      "text/plain": [
       "                                              client_uuid       type doc_type  \\\n",
       "timestamp                                                                       \n",
       "2017-01-06 20:03:21  000f4284-fda0-4a9a-88d7-f0b8c1c29d5a        DOC      CNI   \n",
       "2017-01-06 20:05:52  000f4284-fda0-4a9a-88d7-f0b8c1c29d5a        DOC  PAYSLIP   \n",
       "2017-01-06 20:06:52  000f4284-fda0-4a9a-88d7-f0b8c1c29d5a        DOC  PAYSLIP   \n",
       "2017-01-06 20:09:42  000f4284-fda0-4a9a-88d7-f0b8c1c29d5a        DOC      RIB   \n",
       "2017-01-06 20:19:04  000f4284-fda0-4a9a-88d7-f0b8c1c29d5a  SIGNATURE  UNKNOWN   \n",
       "\n",
       "                     status           timestamp  submission_idx  \\\n",
       "timestamp                                                         \n",
       "2017-01-06 20:03:21    True 2017-01-06 20:03:21               0   \n",
       "2017-01-06 20:05:52   False 2017-01-06 20:05:52               0   \n",
       "2017-01-06 20:06:52    True 2017-01-06 20:06:52               1   \n",
       "2017-01-06 20:09:42    True 2017-01-06 20:09:42               0   \n",
       "2017-01-06 20:19:04    True 2017-01-06 20:19:04               0   \n",
       "\n",
       "                    time_since_first  \n",
       "timestamp                             \n",
       "2017-01-06 20:03:21         00:00:00  \n",
       "2017-01-06 20:05:52         00:02:31  \n",
       "2017-01-06 20:06:52         00:03:31  \n",
       "2017-01-06 20:09:42         00:06:21  \n",
       "2017-01-06 20:19:04         00:15:43  "
      ]
     },
     "execution_count": 15,
     "metadata": {},
     "output_type": "execute_result"
    }
   ],
   "source": [
    "events['time_since_first'] = (events.groupby('client_uuid')\n",
    "                              [\"timestamp\"]\n",
    "                              .transform(lambda ts: ts-ts[0])) # C'est là !\n",
    "\n",
    "events.sort_values(by=[\"client_uuid\", \"timestamp\"]).head()"
   ]
  },
  {
   "cell_type": "markdown",
   "metadata": {
    "slideshow": {
     "slide_type": "subslide"
    }
   },
   "source": [
    "statistiques du nombre de soumissions par type de doc (et après on arrête... )"
   ]
  },
  {
   "cell_type": "code",
   "execution_count": 16,
   "metadata": {
    "slideshow": {
     "slide_type": "-"
    }
   },
   "outputs": [
    {
     "data": {
      "text/html": [
       "<div>\n",
       "<style scoped>\n",
       "    .dataframe tbody tr th:only-of-type {\n",
       "        vertical-align: middle;\n",
       "    }\n",
       "\n",
       "    .dataframe tbody tr th {\n",
       "        vertical-align: top;\n",
       "    }\n",
       "\n",
       "    .dataframe thead th {\n",
       "        text-align: right;\n",
       "    }\n",
       "</style>\n",
       "<table border=\"1\" class=\"dataframe\">\n",
       "  <thead>\n",
       "    <tr style=\"text-align: right;\">\n",
       "      <th></th>\n",
       "      <th></th>\n",
       "      <th>counts</th>\n",
       "      <th>mean_time</th>\n",
       "    </tr>\n",
       "    <tr>\n",
       "      <th>doc_type</th>\n",
       "      <th>submission_idx</th>\n",
       "      <th></th>\n",
       "      <th></th>\n",
       "    </tr>\n",
       "  </thead>\n",
       "  <tbody>\n",
       "    <tr>\n",
       "      <th rowspan=\"3\" valign=\"top\">CNI</th>\n",
       "      <th>0</th>\n",
       "      <td>2058</td>\n",
       "      <td>00:01:51.977648</td>\n",
       "    </tr>\n",
       "    <tr>\n",
       "      <th>1</th>\n",
       "      <td>815</td>\n",
       "      <td>00:04:26.699386</td>\n",
       "    </tr>\n",
       "    <tr>\n",
       "      <th>2</th>\n",
       "      <td>305</td>\n",
       "      <td>00:06:50.236065</td>\n",
       "    </tr>\n",
       "    <tr>\n",
       "      <th rowspan=\"3\" valign=\"top\">PAYSLIP</th>\n",
       "      <th>0</th>\n",
       "      <td>2058</td>\n",
       "      <td>00:05:41.584062</td>\n",
       "    </tr>\n",
       "    <tr>\n",
       "      <th>1</th>\n",
       "      <td>820</td>\n",
       "      <td>00:08:06.714634</td>\n",
       "    </tr>\n",
       "    <tr>\n",
       "      <th>2</th>\n",
       "      <td>328</td>\n",
       "      <td>00:10:29.826219</td>\n",
       "    </tr>\n",
       "    <tr>\n",
       "      <th rowspan=\"3\" valign=\"top\">RIB</th>\n",
       "      <th>0</th>\n",
       "      <td>5000</td>\n",
       "      <td>00:01:37.081600</td>\n",
       "    </tr>\n",
       "    <tr>\n",
       "      <th>1</th>\n",
       "      <td>1963</td>\n",
       "      <td>00:04:07.510443</td>\n",
       "    </tr>\n",
       "    <tr>\n",
       "      <th>2</th>\n",
       "      <td>785</td>\n",
       "      <td>00:06:46.805095</td>\n",
       "    </tr>\n",
       "    <tr>\n",
       "      <th rowspan=\"3\" valign=\"top\">TAX_NOTICE</th>\n",
       "      <th>0</th>\n",
       "      <td>2942</td>\n",
       "      <td>00:03:52.992182</td>\n",
       "    </tr>\n",
       "    <tr>\n",
       "      <th>1</th>\n",
       "      <td>1193</td>\n",
       "      <td>00:06:16.720871</td>\n",
       "    </tr>\n",
       "    <tr>\n",
       "      <th>2</th>\n",
       "      <td>488</td>\n",
       "      <td>00:08:37.743852</td>\n",
       "    </tr>\n",
       "    <tr>\n",
       "      <th>UNKNOWN</th>\n",
       "      <th>0</th>\n",
       "      <td>4763</td>\n",
       "      <td>00:11:50.593323</td>\n",
       "    </tr>\n",
       "  </tbody>\n",
       "</table>\n",
       "</div>"
      ],
      "text/plain": [
       "                           counts       mean_time\n",
       "doc_type   submission_idx                        \n",
       "CNI        0                 2058 00:01:51.977648\n",
       "           1                  815 00:04:26.699386\n",
       "           2                  305 00:06:50.236065\n",
       "PAYSLIP    0                 2058 00:05:41.584062\n",
       "           1                  820 00:08:06.714634\n",
       "           2                  328 00:10:29.826219\n",
       "RIB        0                 5000 00:01:37.081600\n",
       "           1                 1963 00:04:07.510443\n",
       "           2                  785 00:06:46.805095\n",
       "TAX_NOTICE 0                 2942 00:03:52.992182\n",
       "           1                 1193 00:06:16.720871\n",
       "           2                  488 00:08:37.743852\n",
       "UNKNOWN    0                 4763 00:11:50.593323"
      ]
     },
     "execution_count": 16,
     "metadata": {},
     "output_type": "execute_result"
    }
   ],
   "source": [
    "(events.groupby((\"doc_type\", \"submission_idx\"))\n",
    "                .time_since_first\n",
    "                .aggregate([(\"counts\", \"count\"),\n",
    "                            (\"mean_time\", lambda g: g.mean())]))"
   ]
  },
  {
   "cell_type": "markdown",
   "metadata": {
    "slideshow": {
     "slide_type": "slide"
    }
   },
   "source": [
    "\n",
    "![groupby](./pics/pivot.svg.png)\n"
   ]
  },
  {
   "cell_type": "code",
   "execution_count": 17,
   "metadata": {
    "slideshow": {
     "slide_type": "subslide"
    }
   },
   "outputs": [
    {
     "data": {
      "text/html": [
       "<div>\n",
       "<style scoped>\n",
       "    .dataframe tbody tr th:only-of-type {\n",
       "        vertical-align: middle;\n",
       "    }\n",
       "\n",
       "    .dataframe tbody tr th {\n",
       "        vertical-align: top;\n",
       "    }\n",
       "\n",
       "    .dataframe thead th {\n",
       "        text-align: right;\n",
       "    }\n",
       "</style>\n",
       "<table border=\"1\" class=\"dataframe\">\n",
       "  <thead>\n",
       "    <tr style=\"text-align: right;\">\n",
       "      <th>doc_type</th>\n",
       "      <th>CNI</th>\n",
       "      <th>PAYSLIP</th>\n",
       "      <th>RIB</th>\n",
       "      <th>TAX_NOTICE</th>\n",
       "      <th>UNKNOWN</th>\n",
       "    </tr>\n",
       "    <tr>\n",
       "      <th>client_uuid</th>\n",
       "      <th></th>\n",
       "      <th></th>\n",
       "      <th></th>\n",
       "      <th></th>\n",
       "      <th></th>\n",
       "    </tr>\n",
       "  </thead>\n",
       "  <tbody>\n",
       "    <tr>\n",
       "      <th>000f4284-fda0-4a9a-88d7-f0b8c1c29d5a</th>\n",
       "      <td>1.0</td>\n",
       "      <td>2.0</td>\n",
       "      <td>1.0</td>\n",
       "      <td>NaN</td>\n",
       "      <td>1.0</td>\n",
       "    </tr>\n",
       "    <tr>\n",
       "      <th>00237793-d05c-4a8f-a1a9-6e4ed85871eb</th>\n",
       "      <td>NaN</td>\n",
       "      <td>NaN</td>\n",
       "      <td>3.0</td>\n",
       "      <td>1.0</td>\n",
       "      <td>1.0</td>\n",
       "    </tr>\n",
       "    <tr>\n",
       "      <th>002c0ef4-53e0-4cd0-92ee-bad1742b6569</th>\n",
       "      <td>NaN</td>\n",
       "      <td>NaN</td>\n",
       "      <td>2.0</td>\n",
       "      <td>1.0</td>\n",
       "      <td>1.0</td>\n",
       "    </tr>\n",
       "    <tr>\n",
       "      <th>00303bf8-9e3e-4a98-96af-df83cba3cd23</th>\n",
       "      <td>2.0</td>\n",
       "      <td>1.0</td>\n",
       "      <td>1.0</td>\n",
       "      <td>NaN</td>\n",
       "      <td>1.0</td>\n",
       "    </tr>\n",
       "    <tr>\n",
       "      <th>003ca32e-a762-48c1-a892-fe7b02bf90b3</th>\n",
       "      <td>NaN</td>\n",
       "      <td>NaN</td>\n",
       "      <td>2.0</td>\n",
       "      <td>2.0</td>\n",
       "      <td>1.0</td>\n",
       "    </tr>\n",
       "  </tbody>\n",
       "</table>\n",
       "</div>"
      ],
      "text/plain": [
       "doc_type                              CNI  PAYSLIP  RIB  TAX_NOTICE  UNKNOWN\n",
       "client_uuid                                                                 \n",
       "000f4284-fda0-4a9a-88d7-f0b8c1c29d5a  1.0      2.0  1.0         NaN      1.0\n",
       "00237793-d05c-4a8f-a1a9-6e4ed85871eb  NaN      NaN  3.0         1.0      1.0\n",
       "002c0ef4-53e0-4cd0-92ee-bad1742b6569  NaN      NaN  2.0         1.0      1.0\n",
       "00303bf8-9e3e-4a98-96af-df83cba3cd23  2.0      1.0  1.0         NaN      1.0\n",
       "003ca32e-a762-48c1-a892-fe7b02bf90b3  NaN      NaN  2.0         2.0      1.0"
      ]
     },
     "execution_count": 17,
     "metadata": {},
     "output_type": "execute_result"
    }
   ],
   "source": [
    "submission_counts = pd.pivot_table(events, \n",
    "                   index=\"client_uuid\",\n",
    "                   columns=\"doc_type\",\n",
    "                   values=\"timestamp\",\n",
    "                   aggfunc=\"count\")\n",
    "\n",
    "submission_counts.head()"
   ]
  },
  {
   "cell_type": "code",
   "execution_count": 18,
   "metadata": {
    "slideshow": {
     "slide_type": "subslide"
    }
   },
   "outputs": [
    {
     "data": {
      "text/html": [
       "<div>\n",
       "<style scoped>\n",
       "    .dataframe tbody tr th:only-of-type {\n",
       "        vertical-align: middle;\n",
       "    }\n",
       "\n",
       "    .dataframe tbody tr th {\n",
       "        vertical-align: top;\n",
       "    }\n",
       "\n",
       "    .dataframe thead th {\n",
       "        text-align: right;\n",
       "    }\n",
       "</style>\n",
       "<table border=\"1\" class=\"dataframe\">\n",
       "  <thead>\n",
       "    <tr style=\"text-align: right;\">\n",
       "      <th>doc_type</th>\n",
       "      <th>CNI</th>\n",
       "      <th>PAYSLIP</th>\n",
       "      <th>RIB</th>\n",
       "      <th>TAX_NOTICE</th>\n",
       "      <th>UNKNOWN</th>\n",
       "    </tr>\n",
       "  </thead>\n",
       "  <tbody>\n",
       "    <tr>\n",
       "      <th>count</th>\n",
       "      <td>2058.000000</td>\n",
       "      <td>2058.000000</td>\n",
       "      <td>5000.000000</td>\n",
       "      <td>2942.000000</td>\n",
       "      <td>4763.0</td>\n",
       "    </tr>\n",
       "    <tr>\n",
       "      <th>mean</th>\n",
       "      <td>1.544218</td>\n",
       "      <td>1.557823</td>\n",
       "      <td>1.549600</td>\n",
       "      <td>1.571380</td>\n",
       "      <td>1.0</td>\n",
       "    </tr>\n",
       "    <tr>\n",
       "      <th>std</th>\n",
       "      <td>0.738047</td>\n",
       "      <td>0.752122</td>\n",
       "      <td>0.749435</td>\n",
       "      <td>0.759505</td>\n",
       "      <td>0.0</td>\n",
       "    </tr>\n",
       "    <tr>\n",
       "      <th>min</th>\n",
       "      <td>1.000000</td>\n",
       "      <td>1.000000</td>\n",
       "      <td>1.000000</td>\n",
       "      <td>1.000000</td>\n",
       "      <td>1.0</td>\n",
       "    </tr>\n",
       "    <tr>\n",
       "      <th>25%</th>\n",
       "      <td>1.000000</td>\n",
       "      <td>1.000000</td>\n",
       "      <td>1.000000</td>\n",
       "      <td>1.000000</td>\n",
       "      <td>1.0</td>\n",
       "    </tr>\n",
       "    <tr>\n",
       "      <th>50%</th>\n",
       "      <td>1.000000</td>\n",
       "      <td>1.000000</td>\n",
       "      <td>1.000000</td>\n",
       "      <td>1.000000</td>\n",
       "      <td>1.0</td>\n",
       "    </tr>\n",
       "    <tr>\n",
       "      <th>75%</th>\n",
       "      <td>2.000000</td>\n",
       "      <td>2.000000</td>\n",
       "      <td>2.000000</td>\n",
       "      <td>2.000000</td>\n",
       "      <td>1.0</td>\n",
       "    </tr>\n",
       "    <tr>\n",
       "      <th>max</th>\n",
       "      <td>3.000000</td>\n",
       "      <td>3.000000</td>\n",
       "      <td>3.000000</td>\n",
       "      <td>3.000000</td>\n",
       "      <td>1.0</td>\n",
       "    </tr>\n",
       "  </tbody>\n",
       "</table>\n",
       "</div>"
      ],
      "text/plain": [
       "doc_type          CNI      PAYSLIP          RIB   TAX_NOTICE  UNKNOWN\n",
       "count     2058.000000  2058.000000  5000.000000  2942.000000   4763.0\n",
       "mean         1.544218     1.557823     1.549600     1.571380      1.0\n",
       "std          0.738047     0.752122     0.749435     0.759505      0.0\n",
       "min          1.000000     1.000000     1.000000     1.000000      1.0\n",
       "25%          1.000000     1.000000     1.000000     1.000000      1.0\n",
       "50%          1.000000     1.000000     1.000000     1.000000      1.0\n",
       "75%          2.000000     2.000000     2.000000     2.000000      1.0\n",
       "max          3.000000     3.000000     3.000000     3.000000      1.0"
      ]
     },
     "execution_count": 18,
     "metadata": {},
     "output_type": "execute_result"
    }
   ],
   "source": [
    "submission_counts.describe()"
   ]
  },
  {
   "cell_type": "markdown",
   "metadata": {
    "slideshow": {
     "slide_type": "slide"
    }
   },
   "source": [
    "### Des graphiques ! "
   ]
  },
  {
   "cell_type": "code",
   "execution_count": 19,
   "metadata": {
    "slideshow": {
     "slide_type": "subslide"
    }
   },
   "outputs": [
    {
     "data": {
      "text/plain": [
       "<matplotlib.axes._subplots.AxesSubplot at 0x7f90c19a2320>"
      ]
     },
     "execution_count": 19,
     "metadata": {},
     "output_type": "execute_result"
    },
    {
     "data": {
      "image/png": "[encoded data removed]",
      "text/plain": [
       "<Figure size 432x288 with 1 Axes>"
      ]
     },
     "metadata": {},
     "output_type": "display_data"
    }
   ],
   "source": [
    "# temps passé par dossier\n",
    "\n",
    "(events.groupby('client_uuid')\n",
    "     .time_since_first # juste le temps depuis la première action\n",
    "     .max() # l'évenement le plus long... \n",
    "     .map(lambda x: x.total_seconds())\n",
    "     .hist(bins=50)) # KABOOM !"
   ]
  },
  {
   "cell_type": "code",
   "execution_count": 20,
   "metadata": {
    "slideshow": {
     "slide_type": "subslide"
    }
   },
   "outputs": [
    {
     "data": {
      "text/plain": [
       "<matplotlib.axes._subplots.AxesSubplot at 0x7f90c1808400>"
      ]
     },
     "execution_count": 20,
     "metadata": {},
     "output_type": "execute_result"
    },
    {
     "data": {
      "image/png": "[encoded data removed]",
      "text/plain": [
       "<Figure size 432x288 with 1 Axes>"
      ]
     },
     "metadata": {},
     "output_type": "display_data"
    }
   ],
   "source": [
    "(events.loc[\"20170110\"] \n",
    "        .resample('H') # H - aggregation par heure\n",
    "        .doc_type\n",
    "        .count().plot(title=\"nombre d'évenements par heure\"))"
   ]
  },
  {
   "cell_type": "markdown",
   "metadata": {
    "slideshow": {
     "slide_type": "slide"
    }
   },
   "source": [
    "### Et maintenant ? \n",
    "\n",
    "Vous avez la base, vous pouvez plonger plus loin : \n",
    "- `.merge` et `.join` : si j'ai 2 tables, des jointures comme à la maison ! \n",
    "- les timeseries, et tout ce qu'on peut faire avec ( resampling, rolling windows, conversions .. )\n",
    "\n",
    "Et une fois que vous avez bien tout nettoyé, évidement, on peut jouer avec scikit-learn pour faire du Machine learning, ou [bokeh](https://bokeh.pydata.org/) pour des zouli graphiques, direct depuis pandas."
   ]
  },
  {
   "cell_type": "markdown",
   "metadata": {
    "slideshow": {
     "slide_type": "slide"
    }
   },
   "source": [
    "# Merci ! \n",
    "\n",
    "- Cette présentation est un notebook dispo sur github :\n",
    "    [https://github.com/flo-dhalluin/python-pandas-talk](https://github.com/flo-dhalluin/python-pandas-talk)\n",
    "- fait avec [jupyter / notebook](https://jupyter.org/)\n",
    "\n",
    "\n",
    " <img src=\"pics/twitter.png\" width=\"50px\" style=\"display:inline\"/>  [@flal](https://twitter.com/flal)\n",
    " \n",
    " [Netheos recrute !](https://www.netheos.com), venez m'en parler ! "
   ]
  },
  {
   "cell_type": "markdown",
   "metadata": {
    "slideshow": {
     "slide_type": "slide"
    }
   },
   "source": [
    "### Join (ou pluôt ... merge )\n",
    "\n",
    "Des jointures, comme à la maison ! "
   ]
  },
  {
   "cell_type": "code",
   "execution_count": 21,
   "metadata": {
    "slideshow": {
     "slide_type": "subslide"
    }
   },
   "outputs": [
    {
     "data": {
      "text/html": [
       "<div>\n",
       "<style scoped>\n",
       "    .dataframe tbody tr th:only-of-type {\n",
       "        vertical-align: middle;\n",
       "    }\n",
       "\n",
       "    .dataframe tbody tr th {\n",
       "        vertical-align: top;\n",
       "    }\n",
       "\n",
       "    .dataframe thead th {\n",
       "        text-align: right;\n",
       "    }\n",
       "</style>\n",
       "<table border=\"1\" class=\"dataframe\">\n",
       "  <thead>\n",
       "    <tr style=\"text-align: right;\">\n",
       "      <th></th>\n",
       "      <th>date_created</th>\n",
       "      <th>product</th>\n",
       "      <th>first_name</th>\n",
       "      <th>last_name</th>\n",
       "      <th>dob</th>\n",
       "    </tr>\n",
       "    <tr>\n",
       "      <th>uuid</th>\n",
       "      <th></th>\n",
       "      <th></th>\n",
       "      <th></th>\n",
       "      <th></th>\n",
       "      <th></th>\n",
       "    </tr>\n",
       "  </thead>\n",
       "  <tbody>\n",
       "    <tr>\n",
       "      <th>b31c08b3-f68d-47f2-9e32-bc63a4f2569c</th>\n",
       "      <td>2017-01-01T00:44:49</td>\n",
       "      <td>LEASING_VOITURE</td>\n",
       "      <td>Émile</td>\n",
       "      <td>Bernier</td>\n",
       "      <td>1998-05-24</td>\n",
       "    </tr>\n",
       "    <tr>\n",
       "      <th>67d04076-a809-4541-a40b-32a681b344c9</th>\n",
       "      <td>2017-01-01T04:52:52</td>\n",
       "      <td>ASSURANCE_A</td>\n",
       "      <td>Franck</td>\n",
       "      <td>Lopes</td>\n",
       "      <td>1998-06-14</td>\n",
       "    </tr>\n",
       "    <tr>\n",
       "      <th>0417341e-9ea3-4cb0-9e2b-bb8765ab65f5</th>\n",
       "      <td>2017-01-01T06:15:05</td>\n",
       "      <td>LEASING_VOITURE</td>\n",
       "      <td>Alphonse</td>\n",
       "      <td>Rodrigues</td>\n",
       "      <td>1998-06-04</td>\n",
       "    </tr>\n",
       "    <tr>\n",
       "      <th>60518499-cf6b-463f-844e-4808ba82fecb</th>\n",
       "      <td>2017-01-01T07:45:44</td>\n",
       "      <td>CARTE_CREDIT</td>\n",
       "      <td>Georges</td>\n",
       "      <td>Auger</td>\n",
       "      <td>1998-05-23</td>\n",
       "    </tr>\n",
       "    <tr>\n",
       "      <th>c4e4f2f1-eb85-42df-acec-0811bbab42ca</th>\n",
       "      <td>2017-01-01T08:43:10</td>\n",
       "      <td>ASSURANCE_A</td>\n",
       "      <td>Roland</td>\n",
       "      <td>Martineau</td>\n",
       "      <td>1998-06-15</td>\n",
       "    </tr>\n",
       "  </tbody>\n",
       "</table>\n",
       "</div>"
      ],
      "text/plain": [
       "                                             date_created          product  \\\n",
       "uuid                                                                         \n",
       "b31c08b3-f68d-47f2-9e32-bc63a4f2569c  2017-01-01T00:44:49  LEASING_VOITURE   \n",
       "67d04076-a809-4541-a40b-32a681b344c9  2017-01-01T04:52:52      ASSURANCE_A   \n",
       "0417341e-9ea3-4cb0-9e2b-bb8765ab65f5  2017-01-01T06:15:05  LEASING_VOITURE   \n",
       "60518499-cf6b-463f-844e-4808ba82fecb  2017-01-01T07:45:44     CARTE_CREDIT   \n",
       "c4e4f2f1-eb85-42df-acec-0811bbab42ca  2017-01-01T08:43:10      ASSURANCE_A   \n",
       "\n",
       "                                     first_name  last_name         dob  \n",
       "uuid                                                                    \n",
       "b31c08b3-f68d-47f2-9e32-bc63a4f2569c      Émile    Bernier  1998-05-24  \n",
       "67d04076-a809-4541-a40b-32a681b344c9     Franck      Lopes  1998-06-14  \n",
       "0417341e-9ea3-4cb0-9e2b-bb8765ab65f5   Alphonse  Rodrigues  1998-06-04  \n",
       "60518499-cf6b-463f-844e-4808ba82fecb    Georges      Auger  1998-05-23  \n",
       "c4e4f2f1-eb85-42df-acec-0811bbab42ca     Roland  Martineau  1998-06-15  "
      ]
     },
     "execution_count": 21,
     "metadata": {},
     "output_type": "execute_result"
    }
   ],
   "source": [
    "clients = pd.read_csv(\"client_files.csv\", delimiter=\";\", index_col=0)\n",
    "clients.head()"
   ]
  },
  {
   "cell_type": "code",
   "execution_count": 22,
   "metadata": {
    "slideshow": {
     "slide_type": "subslide"
    }
   },
   "outputs": [
    {
     "data": {
      "text/html": [
       "<div>\n",
       "<style scoped>\n",
       "    .dataframe tbody tr th:only-of-type {\n",
       "        vertical-align: middle;\n",
       "    }\n",
       "\n",
       "    .dataframe tbody tr th {\n",
       "        vertical-align: top;\n",
       "    }\n",
       "\n",
       "    .dataframe thead th {\n",
       "        text-align: right;\n",
       "    }\n",
       "</style>\n",
       "<table border=\"1\" class=\"dataframe\">\n",
       "  <thead>\n",
       "    <tr style=\"text-align: right;\">\n",
       "      <th></th>\n",
       "      <th>client_uuid</th>\n",
       "      <th>type</th>\n",
       "      <th>doc_type</th>\n",
       "      <th>status</th>\n",
       "      <th>timestamp</th>\n",
       "      <th>submission_idx</th>\n",
       "      <th>time_since_first</th>\n",
       "      <th>date_created</th>\n",
       "      <th>product</th>\n",
       "      <th>first_name</th>\n",
       "      <th>last_name</th>\n",
       "      <th>dob</th>\n",
       "    </tr>\n",
       "    <tr>\n",
       "      <th>timestamp</th>\n",
       "      <th></th>\n",
       "      <th></th>\n",
       "      <th></th>\n",
       "      <th></th>\n",
       "      <th></th>\n",
       "      <th></th>\n",
       "      <th></th>\n",
       "      <th></th>\n",
       "      <th></th>\n",
       "      <th></th>\n",
       "      <th></th>\n",
       "      <th></th>\n",
       "    </tr>\n",
       "  </thead>\n",
       "  <tbody>\n",
       "    <tr>\n",
       "      <th>2017-01-01 00:49:35</th>\n",
       "      <td>b31c08b3-f68d-47f2-9e32-bc63a4f2569c</td>\n",
       "      <td>DOC</td>\n",
       "      <td>RIB</td>\n",
       "      <td>True</td>\n",
       "      <td>2017-01-01 00:49:35</td>\n",
       "      <td>0</td>\n",
       "      <td>00:00:00</td>\n",
       "      <td>2017-01-01T00:44:49</td>\n",
       "      <td>LEASING_VOITURE</td>\n",
       "      <td>Émile</td>\n",
       "      <td>Bernier</td>\n",
       "      <td>1998-05-24</td>\n",
       "    </tr>\n",
       "    <tr>\n",
       "      <th>2017-01-01 00:52:45</th>\n",
       "      <td>b31c08b3-f68d-47f2-9e32-bc63a4f2569c</td>\n",
       "      <td>DOC</td>\n",
       "      <td>CNI</td>\n",
       "      <td>True</td>\n",
       "      <td>2017-01-01 00:52:45</td>\n",
       "      <td>0</td>\n",
       "      <td>00:03:10</td>\n",
       "      <td>2017-01-01T00:44:49</td>\n",
       "      <td>LEASING_VOITURE</td>\n",
       "      <td>Émile</td>\n",
       "      <td>Bernier</td>\n",
       "      <td>1998-05-24</td>\n",
       "    </tr>\n",
       "    <tr>\n",
       "      <th>2017-01-01 00:55:10</th>\n",
       "      <td>b31c08b3-f68d-47f2-9e32-bc63a4f2569c</td>\n",
       "      <td>DOC</td>\n",
       "      <td>PAYSLIP</td>\n",
       "      <td>False</td>\n",
       "      <td>2017-01-01 00:55:10</td>\n",
       "      <td>0</td>\n",
       "      <td>00:05:35</td>\n",
       "      <td>2017-01-01T00:44:49</td>\n",
       "      <td>LEASING_VOITURE</td>\n",
       "      <td>Émile</td>\n",
       "      <td>Bernier</td>\n",
       "      <td>1998-05-24</td>\n",
       "    </tr>\n",
       "    <tr>\n",
       "      <th>2017-01-01 00:55:47</th>\n",
       "      <td>b31c08b3-f68d-47f2-9e32-bc63a4f2569c</td>\n",
       "      <td>DOC</td>\n",
       "      <td>PAYSLIP</td>\n",
       "      <td>True</td>\n",
       "      <td>2017-01-01 00:55:47</td>\n",
       "      <td>1</td>\n",
       "      <td>00:06:12</td>\n",
       "      <td>2017-01-01T00:44:49</td>\n",
       "      <td>LEASING_VOITURE</td>\n",
       "      <td>Émile</td>\n",
       "      <td>Bernier</td>\n",
       "      <td>1998-05-24</td>\n",
       "    </tr>\n",
       "    <tr>\n",
       "      <th>2017-01-01 00:56:05</th>\n",
       "      <td>b31c08b3-f68d-47f2-9e32-bc63a4f2569c</td>\n",
       "      <td>SIGNATURE</td>\n",
       "      <td>UNKNOWN</td>\n",
       "      <td>True</td>\n",
       "      <td>2017-01-01 00:56:05</td>\n",
       "      <td>0</td>\n",
       "      <td>00:06:30</td>\n",
       "      <td>2017-01-01T00:44:49</td>\n",
       "      <td>LEASING_VOITURE</td>\n",
       "      <td>Émile</td>\n",
       "      <td>Bernier</td>\n",
       "      <td>1998-05-24</td>\n",
       "    </tr>\n",
       "  </tbody>\n",
       "</table>\n",
       "</div>"
      ],
      "text/plain": [
       "                                              client_uuid       type doc_type  \\\n",
       "timestamp                                                                       \n",
       "2017-01-01 00:49:35  b31c08b3-f68d-47f2-9e32-bc63a4f2569c        DOC      RIB   \n",
       "2017-01-01 00:52:45  b31c08b3-f68d-47f2-9e32-bc63a4f2569c        DOC      CNI   \n",
       "2017-01-01 00:55:10  b31c08b3-f68d-47f2-9e32-bc63a4f2569c        DOC  PAYSLIP   \n",
       "2017-01-01 00:55:47  b31c08b3-f68d-47f2-9e32-bc63a4f2569c        DOC  PAYSLIP   \n",
       "2017-01-01 00:56:05  b31c08b3-f68d-47f2-9e32-bc63a4f2569c  SIGNATURE  UNKNOWN   \n",
       "\n",
       "                     status           timestamp  submission_idx  \\\n",
       "timestamp                                                         \n",
       "2017-01-01 00:49:35    True 2017-01-01 00:49:35               0   \n",
       "2017-01-01 00:52:45    True 2017-01-01 00:52:45               0   \n",
       "2017-01-01 00:55:10   False 2017-01-01 00:55:10               0   \n",
       "2017-01-01 00:55:47    True 2017-01-01 00:55:47               1   \n",
       "2017-01-01 00:56:05    True 2017-01-01 00:56:05               0   \n",
       "\n",
       "                    time_since_first         date_created          product  \\\n",
       "timestamp                                                                    \n",
       "2017-01-01 00:49:35         00:00:00  2017-01-01T00:44:49  LEASING_VOITURE   \n",
       "2017-01-01 00:52:45         00:03:10  2017-01-01T00:44:49  LEASING_VOITURE   \n",
       "2017-01-01 00:55:10         00:05:35  2017-01-01T00:44:49  LEASING_VOITURE   \n",
       "2017-01-01 00:55:47         00:06:12  2017-01-01T00:44:49  LEASING_VOITURE   \n",
       "2017-01-01 00:56:05         00:06:30  2017-01-01T00:44:49  LEASING_VOITURE   \n",
       "\n",
       "                    first_name last_name         dob  \n",
       "timestamp                                             \n",
       "2017-01-01 00:49:35      Émile   Bernier  1998-05-24  \n",
       "2017-01-01 00:52:45      Émile   Bernier  1998-05-24  \n",
       "2017-01-01 00:55:10      Émile   Bernier  1998-05-24  \n",
       "2017-01-01 00:55:47      Émile   Bernier  1998-05-24  \n",
       "2017-01-01 00:56:05      Émile   Bernier  1998-05-24  "
      ]
     },
     "metadata": {},
     "output_type": "display_data"
    }
   ],
   "source": [
    "merged = pd.merge(events, clients, \n",
    "                 left_on=\"client_uuid\", \n",
    "                 right_index=True, \n",
    "                 how=\"left\") # ou bien inner, outer .\n",
    "# equivalent à \n",
    "# events.join(clients, on=\"client_uuid\")\n",
    "display(merged.head())"
   ]
  },
  {
   "cell_type": "code",
   "execution_count": 23,
   "metadata": {
    "slideshow": {
     "slide_type": "subslide"
    }
   },
   "outputs": [
    {
     "data": {
      "text/plain": [
       "<matplotlib.axes._subplots.AxesSubplot at 0x7f90c16ea160>"
      ]
     },
     "execution_count": 23,
     "metadata": {},
     "output_type": "execute_result"
    },
    {
     "data": {
      "image/png": "[encoded data removed]",
      "text/plain": [
       "<Figure size 432x288 with 1 Axes>"
      ]
     },
     "metadata": {},
     "output_type": "display_data"
    }
   ],
   "source": [
    "# on va pouvoir faire des stats par produits !\n",
    "# nombre de resoumissions pour le RIB, par produit\n",
    "\n",
    "(clients.join(submission_counts)\n",
    "     .groupby(\"product\")\n",
    "     .RIB # on regarde les RIB\n",
    "     .value_counts().unstack()\n",
    "     .plot.bar())"
   ]
  }
 ],
 "metadata": {
  "celltoolbar": "Slideshow",
  "kernelspec": {
   "display_name": "Python 3",
   "language": "python",
   "name": "python3"
  },
  "language_info": {
   "codemirror_mode": {
    "name": "ipython",
    "version": 3
   },
   "file_extension": ".py",
   "mimetype": "text/x-python",
   "name": "python",
   "nbconvert_exporter": "python",
   "pygments_lexer": "ipython3",
   "version": "3.6.5"
  }
 },
 "nbformat": 4,
 "nbformat_minor": 2
}

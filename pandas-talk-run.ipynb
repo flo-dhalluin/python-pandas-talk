{
 "cells": [
  {
   "cell_type": "markdown",
   "metadata": {
    "slideshow": {
     "slide_type": "slide"
    }
   },
   "source": [
    "# Python + Pandas is love\n",
    "\n",
    "L'idéal pour une rapport de données, la validation d'une intuition, vite fait, sur un coin de table, en mode oneshot / quick&dirty ? ~~Excel~~ [Pandas](https://pandas.pydata.org/) !\n",
    "\n",
    "Nous allons suivre la génération d'un rapport à partir d'un _petit_ dump de données, ce qui va nous permettre de faire une visite guidée des fonctionnalités de pandas. Ce ne sera pas exhaustif, mais devrait vous permettre d'y penser la prochaine fois. \n",
    "\n",
    "(Version page web)[https://nbviewer.jupyter.org/github/flo-dhalluin/python-pandas-talk/blob/master/pandas-talk-run.ipynb]"
   ]
  },
  {
   "cell_type": "markdown",
   "metadata": {
    "slideshow": {
     "slide_type": "slide"
    }
   },
   "source": [
    "## La base\n"
   ]
  },
  {
   "cell_type": "code",
   "execution_count": 1,
   "metadata": {
    "slideshow": {
     "slide_type": "subslide"
    }
   },
   "outputs": [],
   "source": [
    "%matplotlib inline\n",
    "import pandas as pd\n",
    "import numpy as np"
   ]
  },
  {
   "cell_type": "markdown",
   "metadata": {
    "slideshow": {
     "slide_type": "slide"
    }
   },
   "source": [
    "### Serie\n",
    "\n",
    "Une série, est une séquence de valeurs, de type homogène (toutes du même type : String, entiers, flotants, dates ... ), __ avec un index __"
   ]
  },
  {
   "cell_type": "code",
   "execution_count": 2,
   "metadata": {
    "slideshow": {
     "slide_type": "subslide"
    }
   },
   "outputs": [
    {
     "data": {
      "text/plain": [
       "2017-01-01 00:00:00   2017-01-01 00:00:00\n",
       "2017-01-01 02:00:00   2017-01-01 02:00:00\n",
       "2017-01-01 04:00:00   2017-01-01 04:00:00\n",
       "2017-01-01 06:00:00   2017-01-01 06:00:00\n",
       "2017-01-01 08:00:00   2017-01-01 08:00:00\n",
       "Freq: 2H, dtype: datetime64[ns]"
      ]
     },
     "execution_count": 2,
     "metadata": {},
     "output_type": "execute_result"
    }
   ],
   "source": [
    "s = pd.Series([5,4,3,2,1,2,3,4,5])\n",
    "s_datetimes = pd.date_range(start=\"2017-01-01\", periods=86400, freq=\"2H\").to_series()\n",
    "\n",
    "#display(s.head())\n",
    "s_datetimes.head()"
   ]
  },
  {
   "cell_type": "markdown",
   "metadata": {
    "slideshow": {
     "slide_type": "slide"
    }
   },
   "source": [
    "## Dataframe\n",
    "\n",
    "Un Dataframe, c'est un tableau : \n",
    "- un ensemble de Series, nommées ( les colonnes)\n",
    "- qui partagent un index\n"
   ]
  },
  {
   "cell_type": "code",
   "execution_count": 3,
   "metadata": {
    "slideshow": {
     "slide_type": "subslide"
    }
   },
   "outputs": [
    {
     "name": "stdout",
     "output_type": "stream",
     "text": [
      "<class 'pandas.core.frame.DataFrame'>\n",
      "RangeIndex: 120 entries, 0 to 119\n",
      "Data columns (total 3 columns):\n",
      "category    120 non-null category\n",
      "time        120 non-null datetime64[ns]\n",
      "value       120 non-null float64\n",
      "dtypes: category(1), datetime64[ns](1), float64(1)\n",
      "memory usage: 2.3 KB\n",
      "None\n"
     ]
    },
    {
     "data": {
      "text/html": [
       "<div>\n",
       "<style scoped>\n",
       "    .dataframe tbody tr th:only-of-type {\n",
       "        vertical-align: middle;\n",
       "    }\n",
       "\n",
       "    .dataframe tbody tr th {\n",
       "        vertical-align: top;\n",
       "    }\n",
       "\n",
       "    .dataframe thead th {\n",
       "        text-align: right;\n",
       "    }\n",
       "</style>\n",
       "<table border=\"1\" class=\"dataframe\">\n",
       "  <thead>\n",
       "    <tr style=\"text-align: right;\">\n",
       "      <th></th>\n",
       "      <th>category</th>\n",
       "      <th>time</th>\n",
       "      <th>value</th>\n",
       "    </tr>\n",
       "  </thead>\n",
       "  <tbody>\n",
       "    <tr>\n",
       "      <th>0</th>\n",
       "      <td>a</td>\n",
       "      <td>2017-01-01 00:00:00</td>\n",
       "      <td>0.656737</td>\n",
       "    </tr>\n",
       "    <tr>\n",
       "      <th>1</th>\n",
       "      <td>b</td>\n",
       "      <td>2017-01-01 02:00:00</td>\n",
       "      <td>0.871117</td>\n",
       "    </tr>\n",
       "    <tr>\n",
       "      <th>2</th>\n",
       "      <td>c</td>\n",
       "      <td>2017-01-01 04:00:00</td>\n",
       "      <td>0.754182</td>\n",
       "    </tr>\n",
       "    <tr>\n",
       "      <th>3</th>\n",
       "      <td>d</td>\n",
       "      <td>2017-01-01 06:00:00</td>\n",
       "      <td>0.364032</td>\n",
       "    </tr>\n",
       "    <tr>\n",
       "      <th>4</th>\n",
       "      <td>e</td>\n",
       "      <td>2017-01-01 08:00:00</td>\n",
       "      <td>0.886751</td>\n",
       "    </tr>\n",
       "  </tbody>\n",
       "</table>\n",
       "</div>"
      ],
      "text/plain": [
       "  category                time     value\n",
       "0        a 2017-01-01 00:00:00  0.656737\n",
       "1        b 2017-01-01 02:00:00  0.871117\n",
       "2        c 2017-01-01 04:00:00  0.754182\n",
       "3        d 2017-01-01 06:00:00  0.364032\n",
       "4        e 2017-01-01 08:00:00  0.886751"
      ]
     },
     "metadata": {},
     "output_type": "display_data"
    }
   ],
   "source": [
    "data = pd.DataFrame({\"time\": s_datetimes[:120].values,  # get rid of the index\n",
    "                     \"value\": np.random.random(120),\n",
    "                     \"category\": pd.Categorical(list(\"abcdef\" * 20))})\n",
    "\n",
    "print(data.info(()))\n",
    "display(data.head())"
   ]
  },
  {
   "cell_type": "markdown",
   "metadata": {
    "slideshow": {
     "slide_type": "subslide"
    }
   },
   "source": [
    "### Import/Export\n",
    "\n",
    "L'idée étant évidemment d'importer nos données ici, et pas de les générer. Pandas supporte à peu près tout les fichiers formats de données courants :\n",
    "- csv \n",
    "- excel \n",
    "- hdf5 \n",
    "- json/msgpack/parquet\n",
    "\n",
    "_mais aussi_  on peut créer un dataframe directement depuis une requête SQL, ou même Big Query.\n",
    "\n",
    "Nous allons ici utiliser la lingua franca de la data ( rappel du contexte : on est sale, on est rapide, on est pas sexys ...) : le csv. "
   ]
  },
  {
   "cell_type": "code",
   "execution_count": 4,
   "metadata": {
    "slideshow": {
     "slide_type": "subslide"
    }
   },
   "outputs": [
    {
     "name": "stdout",
     "output_type": "stream",
     "text": [
      "events is row x cols (24850, 4)\n",
      "columns are :  Index(['client_uuid', 'type', 'doc_type', 'status'], dtype='object')\n",
      "time range: 2017-01-01 04:11:30 2017-01-21 17:30:19\n"
     ]
    },
    {
     "data": {
      "text/html": [
       "<div>\n",
       "<style scoped>\n",
       "    .dataframe tbody tr th:only-of-type {\n",
       "        vertical-align: middle;\n",
       "    }\n",
       "\n",
       "    .dataframe tbody tr th {\n",
       "        vertical-align: top;\n",
       "    }\n",
       "\n",
       "    .dataframe thead th {\n",
       "        text-align: right;\n",
       "    }\n",
       "</style>\n",
       "<table border=\"1\" class=\"dataframe\">\n",
       "  <thead>\n",
       "    <tr style=\"text-align: right;\">\n",
       "      <th></th>\n",
       "      <th>client_uuid</th>\n",
       "      <th>type</th>\n",
       "      <th>doc_type</th>\n",
       "      <th>status</th>\n",
       "    </tr>\n",
       "    <tr>\n",
       "      <th>timestamp</th>\n",
       "      <th></th>\n",
       "      <th></th>\n",
       "      <th></th>\n",
       "      <th></th>\n",
       "    </tr>\n",
       "  </thead>\n",
       "  <tbody>\n",
       "    <tr>\n",
       "      <th>2017-01-01 04:11:30</th>\n",
       "      <td>f6cce9e3-7fd1-44ec-b385-a53fcdca326b</td>\n",
       "      <td>DOC</td>\n",
       "      <td>TAX_NOTICE</td>\n",
       "      <td>False</td>\n",
       "    </tr>\n",
       "    <tr>\n",
       "      <th>2017-01-01 04:14:27</th>\n",
       "      <td>f6cce9e3-7fd1-44ec-b385-a53fcdca326b</td>\n",
       "      <td>DOC</td>\n",
       "      <td>TAX_NOTICE</td>\n",
       "      <td>True</td>\n",
       "    </tr>\n",
       "    <tr>\n",
       "      <th>2017-01-01 04:19:19</th>\n",
       "      <td>f6cce9e3-7fd1-44ec-b385-a53fcdca326b</td>\n",
       "      <td>DOC</td>\n",
       "      <td>RIB</td>\n",
       "      <td>False</td>\n",
       "    </tr>\n",
       "    <tr>\n",
       "      <th>2017-01-01 04:22:32</th>\n",
       "      <td>f6cce9e3-7fd1-44ec-b385-a53fcdca326b</td>\n",
       "      <td>DOC</td>\n",
       "      <td>RIB</td>\n",
       "      <td>False</td>\n",
       "    </tr>\n",
       "  </tbody>\n",
       "</table>\n",
       "</div>"
      ],
      "text/plain": [
       "                                              client_uuid type    doc_type  \\\n",
       "timestamp                                                                    \n",
       "2017-01-01 04:11:30  f6cce9e3-7fd1-44ec-b385-a53fcdca326b  DOC  TAX_NOTICE   \n",
       "2017-01-01 04:14:27  f6cce9e3-7fd1-44ec-b385-a53fcdca326b  DOC  TAX_NOTICE   \n",
       "2017-01-01 04:19:19  f6cce9e3-7fd1-44ec-b385-a53fcdca326b  DOC         RIB   \n",
       "2017-01-01 04:22:32  f6cce9e3-7fd1-44ec-b385-a53fcdca326b  DOC         RIB   \n",
       "\n",
       "                     status  \n",
       "timestamp                    \n",
       "2017-01-01 04:11:30   False  \n",
       "2017-01-01 04:14:27    True  \n",
       "2017-01-01 04:19:19   False  \n",
       "2017-01-01 04:22:32   False  "
      ]
     },
     "metadata": {},
     "output_type": "display_data"
    }
   ],
   "source": [
    "clients = pd.read_csv(\"client_files.csv\", delimiter=\";\", index_col=0, parse_dates=[1])\n",
    "#display(clients.head(4))\n",
    "events = pd.read_csv(\"events.csv\", delimiter=\";\", index_col=0, parse_dates=True)\n",
    "#display(events.info())\n",
    "print(\"events is row x cols\", events.shape)\n",
    "print(\"columns are : \", events.columns)\n",
    "print(\"time range:\", events.index.min(), events.index.max())\n",
    "display(events.head(4))"
   ]
  },
  {
   "cell_type": "markdown",
   "metadata": {
    "slideshow": {
     "slide_type": "slide"
    }
   },
   "source": [
    "## Let's go\n",
    "\n",
    "### Les données :\n",
    "\n",
    "Les clients remplissent des dossiers pour soucrire à des produits, ils doivent envoyer certains justificatifs qui sont\n",
    "  validés automatiquement (ou pas). events enregistre les différentes soumissions de documents. (client_uuid, correspond à un dossier). comme la validation automatique peut échouer, le client resoumet ces pièces.\n",
    "\n",
    "### Le problème\n",
    "Nous voudrions compiler un peu des stats sur le nombre de soumission, par type de dossier ... juste à partir de la table des evenements.\n"
   ]
  },
  {
   "cell_type": "markdown",
   "metadata": {
    "slideshow": {
     "slide_type": "subslide"
    }
   },
   "source": [
    "### Requêtes simples"
   ]
  },
  {
   "cell_type": "code",
   "execution_count": 5,
   "metadata": {},
   "outputs": [
    {
     "name": "stdout",
     "output_type": "stream",
     "text": [
      "1205 events recorded on January 10th\n"
     ]
    },
    {
     "data": {
      "text/html": [
       "<div>\n",
       "<style scoped>\n",
       "    .dataframe tbody tr th:only-of-type {\n",
       "        vertical-align: middle;\n",
       "    }\n",
       "\n",
       "    .dataframe tbody tr th {\n",
       "        vertical-align: top;\n",
       "    }\n",
       "\n",
       "    .dataframe thead th {\n",
       "        text-align: right;\n",
       "    }\n",
       "</style>\n",
       "<table border=\"1\" class=\"dataframe\">\n",
       "  <thead>\n",
       "    <tr style=\"text-align: right;\">\n",
       "      <th></th>\n",
       "      <th>client_uuid</th>\n",
       "      <th>type</th>\n",
       "      <th>doc_type</th>\n",
       "      <th>status</th>\n",
       "    </tr>\n",
       "    <tr>\n",
       "      <th>timestamp</th>\n",
       "      <th></th>\n",
       "      <th></th>\n",
       "      <th></th>\n",
       "      <th></th>\n",
       "    </tr>\n",
       "  </thead>\n",
       "  <tbody>\n",
       "    <tr>\n",
       "      <th>2017-01-01 06:03:43</th>\n",
       "      <td>939871ef-54c3-49c0-a127-ea52666281cc</td>\n",
       "      <td>SIGNATURE</td>\n",
       "      <td>NaN</td>\n",
       "      <td>True</td>\n",
       "    </tr>\n",
       "    <tr>\n",
       "      <th>2017-01-01 07:09:38</th>\n",
       "      <td>a914159f-873b-479c-9897-d36706cb718c</td>\n",
       "      <td>DOC</td>\n",
       "      <td>PAYSLIP</td>\n",
       "      <td>True</td>\n",
       "    </tr>\n",
       "  </tbody>\n",
       "</table>\n",
       "</div>"
      ],
      "text/plain": [
       "                                              client_uuid       type doc_type  \\\n",
       "timestamp                                                                       \n",
       "2017-01-01 06:03:43  939871ef-54c3-49c0-a127-ea52666281cc  SIGNATURE      NaN   \n",
       "2017-01-01 07:09:38  a914159f-873b-479c-9897-d36706cb718c        DOC  PAYSLIP   \n",
       "\n",
       "                     status  \n",
       "timestamp                    \n",
       "2017-01-01 06:03:43    True  \n",
       "2017-01-01 07:09:38    True  "
      ]
     },
     "execution_count": 5,
     "metadata": {},
     "output_type": "execute_result"
    }
   ],
   "source": [
    "import datetime\n",
    "\n",
    "cni_events = events[events.doc_type == \"CNI\"] # keep only CNI type docs\n",
    "# keep only events occuring on january 10th. \n",
    "day_events = events[events.index.date == datetime.date(2017,1,10)]\n",
    "\n",
    "print(\"%d events recorded on January 10th\" % len(day_events))\n",
    "\n",
    "# By Index : .ix  - by \"position\" .iloc \n",
    "events.iloc[14:16]"
   ]
  },
  {
   "cell_type": "code",
   "execution_count": 6,
   "metadata": {
    "slideshow": {
     "slide_type": "subslide"
    }
   },
   "outputs": [
    {
     "data": {
      "text/html": [
       "<div>\n",
       "<style scoped>\n",
       "    .dataframe tbody tr th:only-of-type {\n",
       "        vertical-align: middle;\n",
       "    }\n",
       "\n",
       "    .dataframe tbody tr th {\n",
       "        vertical-align: top;\n",
       "    }\n",
       "\n",
       "    .dataframe thead th {\n",
       "        text-align: right;\n",
       "    }\n",
       "</style>\n",
       "<table border=\"1\" class=\"dataframe\">\n",
       "  <thead>\n",
       "    <tr style=\"text-align: right;\">\n",
       "      <th></th>\n",
       "      <th>client_uuid</th>\n",
       "      <th>type</th>\n",
       "      <th>doc_type</th>\n",
       "      <th>status</th>\n",
       "    </tr>\n",
       "    <tr>\n",
       "      <th>timestamp</th>\n",
       "      <th></th>\n",
       "      <th></th>\n",
       "      <th></th>\n",
       "      <th></th>\n",
       "    </tr>\n",
       "  </thead>\n",
       "  <tbody>\n",
       "    <tr>\n",
       "      <th>2017-01-10 00:14:02</th>\n",
       "      <td>86bfade0-8a3e-4249-a1f0-e7aa430a941c</td>\n",
       "      <td>DOC</td>\n",
       "      <td>RIB</td>\n",
       "      <td>True</td>\n",
       "    </tr>\n",
       "    <tr>\n",
       "      <th>2017-01-10 07:51:16</th>\n",
       "      <td>2722498c-fbe9-4140-a7de-e110b63b7b0a</td>\n",
       "      <td>DOC</td>\n",
       "      <td>RIB</td>\n",
       "      <td>True</td>\n",
       "    </tr>\n",
       "    <tr>\n",
       "      <th>2017-01-10 08:08:19</th>\n",
       "      <td>3d0b3e4d-44cf-4f3a-8f6c-2d20007e44aa</td>\n",
       "      <td>DOC</td>\n",
       "      <td>RIB</td>\n",
       "      <td>True</td>\n",
       "    </tr>\n",
       "    <tr>\n",
       "      <th>2017-01-10 09:00:40</th>\n",
       "      <td>aa378cd3-5fa3-453c-b3e2-c1449f71eb45</td>\n",
       "      <td>DOC</td>\n",
       "      <td>RIB</td>\n",
       "      <td>True</td>\n",
       "    </tr>\n",
       "    <tr>\n",
       "      <th>2017-01-10 09:28:54</th>\n",
       "      <td>fafdea11-1f0e-4012-b350-051c88ab06ed</td>\n",
       "      <td>DOC</td>\n",
       "      <td>RIB</td>\n",
       "      <td>True</td>\n",
       "    </tr>\n",
       "  </tbody>\n",
       "</table>\n",
       "</div>"
      ],
      "text/plain": [
       "                                              client_uuid type doc_type  \\\n",
       "timestamp                                                                 \n",
       "2017-01-10 00:14:02  86bfade0-8a3e-4249-a1f0-e7aa430a941c  DOC      RIB   \n",
       "2017-01-10 07:51:16  2722498c-fbe9-4140-a7de-e110b63b7b0a  DOC      RIB   \n",
       "2017-01-10 08:08:19  3d0b3e4d-44cf-4f3a-8f6c-2d20007e44aa  DOC      RIB   \n",
       "2017-01-10 09:00:40  aa378cd3-5fa3-453c-b3e2-c1449f71eb45  DOC      RIB   \n",
       "2017-01-10 09:28:54  fafdea11-1f0e-4012-b350-051c88ab06ed  DOC      RIB   \n",
       "\n",
       "                     status  \n",
       "timestamp                    \n",
       "2017-01-10 00:14:02    True  \n",
       "2017-01-10 07:51:16    True  \n",
       "2017-01-10 08:08:19    True  \n",
       "2017-01-10 09:00:40    True  \n",
       "2017-01-10 09:28:54    True  "
      ]
     },
     "execution_count": 6,
     "metadata": {},
     "output_type": "execute_result"
    }
   ],
   "source": [
    "# Pour des requêtes encore plus péchues \n",
    "\n",
    "events.query('doc_type==\"RIB\" & status & index > \"20170110\"').head()\n"
   ]
  },
  {
   "cell_type": "markdown",
   "metadata": {
    "slideshow": {
     "slide_type": "slide"
    }
   },
   "source": [
    "### GroupBy\n",
    "\n",
    "> Tableau croisé dynamique, c'est mieux si on en reste là...\n",
    "\n",
    "Passons dans le vif du sujet, et moulinons un peu nos data."
   ]
  },
  {
   "cell_type": "code",
   "execution_count": 7,
   "metadata": {
    "slideshow": {
     "slide_type": "subslide"
    }
   },
   "outputs": [
    {
     "data": {
      "text/html": [
       "<div>\n",
       "<style scoped>\n",
       "    .dataframe tbody tr th:only-of-type {\n",
       "        vertical-align: middle;\n",
       "    }\n",
       "\n",
       "    .dataframe tbody tr th {\n",
       "        vertical-align: top;\n",
       "    }\n",
       "\n",
       "    .dataframe thead th {\n",
       "        text-align: right;\n",
       "    }\n",
       "</style>\n",
       "<table border=\"1\" class=\"dataframe\">\n",
       "  <thead>\n",
       "    <tr style=\"text-align: right;\">\n",
       "      <th></th>\n",
       "      <th></th>\n",
       "      <th>client_uuid</th>\n",
       "      <th>type</th>\n",
       "    </tr>\n",
       "    <tr>\n",
       "      <th>doc_type</th>\n",
       "      <th>status</th>\n",
       "      <th></th>\n",
       "      <th></th>\n",
       "    </tr>\n",
       "  </thead>\n",
       "  <tbody>\n",
       "    <tr>\n",
       "      <th rowspan=\"2\" valign=\"top\">CNI</th>\n",
       "      <th>False</th>\n",
       "      <td>1219</td>\n",
       "      <td>1219</td>\n",
       "    </tr>\n",
       "    <tr>\n",
       "      <th>True</th>\n",
       "      <td>1908</td>\n",
       "      <td>1908</td>\n",
       "    </tr>\n",
       "    <tr>\n",
       "      <th rowspan=\"2\" valign=\"top\">PAYSLIP</th>\n",
       "      <th>False</th>\n",
       "      <td>2436</td>\n",
       "      <td>2436</td>\n",
       "    </tr>\n",
       "    <tr>\n",
       "      <th>True</th>\n",
       "      <td>3717</td>\n",
       "      <td>3717</td>\n",
       "    </tr>\n",
       "    <tr>\n",
       "      <th rowspan=\"2\" valign=\"top\">RIB</th>\n",
       "      <th>False</th>\n",
       "      <td>2491</td>\n",
       "      <td>2491</td>\n",
       "    </tr>\n",
       "    <tr>\n",
       "      <th>True</th>\n",
       "      <td>3774</td>\n",
       "      <td>3774</td>\n",
       "    </tr>\n",
       "    <tr>\n",
       "      <th rowspan=\"2\" valign=\"top\">TAX_NOTICE</th>\n",
       "      <th>False</th>\n",
       "      <td>1771</td>\n",
       "      <td>1771</td>\n",
       "    </tr>\n",
       "    <tr>\n",
       "      <th>True</th>\n",
       "      <td>2787</td>\n",
       "      <td>2787</td>\n",
       "    </tr>\n",
       "  </tbody>\n",
       "</table>\n",
       "</div>"
      ],
      "text/plain": [
       "                   client_uuid  type\n",
       "doc_type   status                   \n",
       "CNI        False          1219  1219\n",
       "           True           1908  1908\n",
       "PAYSLIP    False          2436  2436\n",
       "           True           3717  3717\n",
       "RIB        False          2491  2491\n",
       "           True           3774  3774\n",
       "TAX_NOTICE False          1771  1771\n",
       "           True           2787  2787"
      ]
     },
     "execution_count": 7,
     "metadata": {},
     "output_type": "execute_result"
    }
   ],
   "source": [
    "# comptons les soumissions de documents par type/status. \n",
    "(events.groupby(('doc_type','status')) # groupage imbriqué \n",
    "       .count())   # fonction d'aggregation \n"
   ]
  },
  {
   "cell_type": "markdown",
   "metadata": {
    "slideshow": {
     "slide_type": "subslide"
    }
   },
   "source": [
    "### Split - apply/transform - combine\n",
    "\n",
    "Insérons ici _une jolie image_ pour illuster le flux de données"
   ]
  },
  {
   "cell_type": "code",
   "execution_count": 8,
   "metadata": {
    "slideshow": {
     "slide_type": "subslide"
    }
   },
   "outputs": [
    {
     "data": {
      "text/html": [
       "<div>\n",
       "<style scoped>\n",
       "    .dataframe tbody tr th:only-of-type {\n",
       "        vertical-align: middle;\n",
       "    }\n",
       "\n",
       "    .dataframe tbody tr th {\n",
       "        vertical-align: top;\n",
       "    }\n",
       "\n",
       "    .dataframe thead th {\n",
       "        text-align: right;\n",
       "    }\n",
       "</style>\n",
       "<table border=\"1\" class=\"dataframe\">\n",
       "  <thead>\n",
       "    <tr style=\"text-align: right;\">\n",
       "      <th></th>\n",
       "      <th>client_uuid</th>\n",
       "      <th>type</th>\n",
       "      <th>doc_type</th>\n",
       "      <th>status</th>\n",
       "      <th>timestamp</th>\n",
       "      <th>doc_submission_count</th>\n",
       "      <th>time_since_first</th>\n",
       "    </tr>\n",
       "    <tr>\n",
       "      <th>timestamp</th>\n",
       "      <th></th>\n",
       "      <th></th>\n",
       "      <th></th>\n",
       "      <th></th>\n",
       "      <th></th>\n",
       "      <th></th>\n",
       "      <th></th>\n",
       "    </tr>\n",
       "  </thead>\n",
       "  <tbody>\n",
       "    <tr>\n",
       "      <th>2017-01-01 04:11:30</th>\n",
       "      <td>f6cce9e3-7fd1-44ec-b385-a53fcdca326b</td>\n",
       "      <td>DOC</td>\n",
       "      <td>TAX_NOTICE</td>\n",
       "      <td>False</td>\n",
       "      <td>2017-01-01 04:11:30</td>\n",
       "      <td>0</td>\n",
       "      <td>00:00:00</td>\n",
       "    </tr>\n",
       "    <tr>\n",
       "      <th>2017-01-01 04:14:27</th>\n",
       "      <td>f6cce9e3-7fd1-44ec-b385-a53fcdca326b</td>\n",
       "      <td>DOC</td>\n",
       "      <td>TAX_NOTICE</td>\n",
       "      <td>True</td>\n",
       "      <td>2017-01-01 04:14:27</td>\n",
       "      <td>1</td>\n",
       "      <td>00:02:57</td>\n",
       "    </tr>\n",
       "    <tr>\n",
       "      <th>2017-01-01 04:19:19</th>\n",
       "      <td>f6cce9e3-7fd1-44ec-b385-a53fcdca326b</td>\n",
       "      <td>DOC</td>\n",
       "      <td>RIB</td>\n",
       "      <td>False</td>\n",
       "      <td>2017-01-01 04:19:19</td>\n",
       "      <td>0</td>\n",
       "      <td>00:07:49</td>\n",
       "    </tr>\n",
       "    <tr>\n",
       "      <th>2017-01-01 04:22:32</th>\n",
       "      <td>f6cce9e3-7fd1-44ec-b385-a53fcdca326b</td>\n",
       "      <td>DOC</td>\n",
       "      <td>RIB</td>\n",
       "      <td>False</td>\n",
       "      <td>2017-01-01 04:22:32</td>\n",
       "      <td>1</td>\n",
       "      <td>00:11:02</td>\n",
       "    </tr>\n",
       "    <tr>\n",
       "      <th>2017-01-01 04:23:23</th>\n",
       "      <td>f6cce9e3-7fd1-44ec-b385-a53fcdca326b</td>\n",
       "      <td>DOC</td>\n",
       "      <td>RIB</td>\n",
       "      <td>False</td>\n",
       "      <td>2017-01-01 04:23:23</td>\n",
       "      <td>2</td>\n",
       "      <td>00:11:53</td>\n",
       "    </tr>\n",
       "  </tbody>\n",
       "</table>\n",
       "</div>"
      ],
      "text/plain": [
       "                                              client_uuid type    doc_type  \\\n",
       "timestamp                                                                    \n",
       "2017-01-01 04:11:30  f6cce9e3-7fd1-44ec-b385-a53fcdca326b  DOC  TAX_NOTICE   \n",
       "2017-01-01 04:14:27  f6cce9e3-7fd1-44ec-b385-a53fcdca326b  DOC  TAX_NOTICE   \n",
       "2017-01-01 04:19:19  f6cce9e3-7fd1-44ec-b385-a53fcdca326b  DOC         RIB   \n",
       "2017-01-01 04:22:32  f6cce9e3-7fd1-44ec-b385-a53fcdca326b  DOC         RIB   \n",
       "2017-01-01 04:23:23  f6cce9e3-7fd1-44ec-b385-a53fcdca326b  DOC         RIB   \n",
       "\n",
       "                     status           timestamp  doc_submission_count  \\\n",
       "timestamp                                                               \n",
       "2017-01-01 04:11:30   False 2017-01-01 04:11:30                     0   \n",
       "2017-01-01 04:14:27    True 2017-01-01 04:14:27                     1   \n",
       "2017-01-01 04:19:19   False 2017-01-01 04:19:19                     0   \n",
       "2017-01-01 04:22:32   False 2017-01-01 04:22:32                     1   \n",
       "2017-01-01 04:23:23   False 2017-01-01 04:23:23                     2   \n",
       "\n",
       "                    time_since_first  \n",
       "timestamp                             \n",
       "2017-01-01 04:11:30         00:00:00  \n",
       "2017-01-01 04:14:27         00:02:57  \n",
       "2017-01-01 04:19:19         00:07:49  \n",
       "2017-01-01 04:22:32         00:11:02  \n",
       "2017-01-01 04:23:23         00:11:53  "
      ]
     },
     "execution_count": 8,
     "metadata": {},
     "output_type": "execute_result"
    }
   ],
   "source": [
    "# utiliseons groupby pour \"numéroter\" les soumissions par utilisateurs\n",
    "\n",
    "# cleanup\n",
    "events['doc_type'] = events['doc_type'].fillna('NO_DOC')\n",
    "events[\"timestamp\"] = events.index # --- groupby transform pas très heureux avec les index\n",
    "\n",
    "# groupons par dossier, puis chaque document\n",
    "grouped_doc = events.groupby(('client_uuid','doc_type'))\n",
    "\n",
    "# on transforme une colonne. ( Split - apply - combine)\n",
    "events['doc_submission_count'] = grouped_doc[\"timestamp\"].transform(np.argsort)\n",
    "events['time_since_first'] = events.groupby('client_uuid')[\"timestamp\"].transform(lambda ts: ts-ts[0])\n",
    "\n",
    "events.head()"
   ]
  },
  {
   "cell_type": "code",
   "execution_count": 9,
   "metadata": {
    "slideshow": {
     "slide_type": "subslide"
    }
   },
   "outputs": [
    {
     "data": {
      "text/html": [
       "<div>\n",
       "<style scoped>\n",
       "    .dataframe tbody tr th:only-of-type {\n",
       "        vertical-align: middle;\n",
       "    }\n",
       "\n",
       "    .dataframe tbody tr th {\n",
       "        vertical-align: top;\n",
       "    }\n",
       "\n",
       "    .dataframe thead th {\n",
       "        text-align: right;\n",
       "    }\n",
       "</style>\n",
       "<table border=\"1\" class=\"dataframe\">\n",
       "  <thead>\n",
       "    <tr style=\"text-align: right;\">\n",
       "      <th></th>\n",
       "      <th>mean</th>\n",
       "      <th>max</th>\n",
       "      <th>min</th>\n",
       "    </tr>\n",
       "    <tr>\n",
       "      <th>doc_type</th>\n",
       "      <th></th>\n",
       "      <th></th>\n",
       "      <th></th>\n",
       "    </tr>\n",
       "  </thead>\n",
       "  <tbody>\n",
       "    <tr>\n",
       "      <th>CNI</th>\n",
       "      <td>0.454927</td>\n",
       "      <td>2</td>\n",
       "      <td>0</td>\n",
       "    </tr>\n",
       "    <tr>\n",
       "      <th>NO_DOC</th>\n",
       "      <td>0.000000</td>\n",
       "      <td>0</td>\n",
       "      <td>0</td>\n",
       "    </tr>\n",
       "    <tr>\n",
       "      <th>PAYSLIP</th>\n",
       "      <td>0.462470</td>\n",
       "      <td>2</td>\n",
       "      <td>0</td>\n",
       "    </tr>\n",
       "    <tr>\n",
       "      <th>RIB</th>\n",
       "      <td>0.465289</td>\n",
       "      <td>2</td>\n",
       "      <td>0</td>\n",
       "    </tr>\n",
       "    <tr>\n",
       "      <th>TAX_NOTICE</th>\n",
       "      <td>0.453534</td>\n",
       "      <td>2</td>\n",
       "      <td>0</td>\n",
       "    </tr>\n",
       "  </tbody>\n",
       "</table>\n",
       "</div>"
      ],
      "text/plain": [
       "                mean  max  min\n",
       "doc_type                      \n",
       "CNI         0.454927    2    0\n",
       "NO_DOC      0.000000    0    0\n",
       "PAYSLIP     0.462470    2    0\n",
       "RIB         0.465289    2    0\n",
       "TAX_NOTICE  0.453534    2    0"
      ]
     },
     "execution_count": 9,
     "metadata": {},
     "output_type": "execute_result"
    }
   ],
   "source": [
    "# Nb moyen de soumissions de doc avant succés : PAR Type de doc.\n",
    "(events[events.status==True] # seulement les soumissions ok\n",
    "     .groupby('doc_type')    # toujours le petit groupby ... \n",
    "     .doc_submission_count   # quantième soumission\n",
    "     .aggregate(['mean', 'max', 'min'])) # aggregation des stats.. "
   ]
  },
  {
   "cell_type": "markdown",
   "metadata": {
    "slideshow": {
     "slide_type": "slide"
    }
   },
   "source": [
    "### Des graphiques ! "
   ]
  },
  {
   "cell_type": "code",
   "execution_count": 10,
   "metadata": {
    "slideshow": {
     "slide_type": "subslide"
    }
   },
   "outputs": [
    {
     "data": {
      "text/plain": [
       "<matplotlib.axes._subplots.AxesSubplot at 0x7fa37383a6a0>"
      ]
     },
     "execution_count": 10,
     "metadata": {},
     "output_type": "execute_result"
    },
    {
     "data": {
      "image/png": "[encoded data removed]",
      "text/plain": [
       "<Figure size 432x288 with 1 Axes>"
      ]
     },
     "metadata": {},
     "output_type": "display_data"
    }
   ],
   "source": [
    "# temps passé par dossier\n",
    "\n",
    "(events.groupby('client_uuid') # Tu vois ce que je veux dire ? \n",
    "     .time_since_first # juste le temps depuis la première action\n",
    "     .max().map(lambda x: x.total_seconds()) # timedelta -> \"float\" ( seconds )\n",
    "     .hist(bins=50)) # KABOOM !\n"
   ]
  },
  {
   "cell_type": "markdown",
   "metadata": {
    "slideshow": {
     "slide_type": "slide"
    }
   },
   "source": [
    "### Encore plus de trucs fun: join et pivot. \n",
    "\n",
    "... To be continued"
   ]
  },
  {
   "cell_type": "markdown",
   "metadata": {
    "slideshow": {
     "slide_type": "slide"
    }
   },
   "source": [
    "- [sources](https://github.com/flo-dhalluin/python-pandas-talk)\n",
    "- fait avec [jupyter / notebook](https://jupyter.org/)\n",
    "- Le saviez vous ? vous pouvez exporter un notebook en slides/reveal.js\n"
   ]
  }
 ],
 "metadata": {
  "celltoolbar": "Slideshow",
  "kernelspec": {
   "display_name": "Python 3",
   "language": "python",
   "name": "python3"
  },
  "language_info": {
   "codemirror_mode": {
    "name": "ipython",
    "version": 3
   },
   "file_extension": ".py",
   "mimetype": "text/x-python",
   "name": "python",
   "nbconvert_exporter": "python",
   "pygments_lexer": "ipython3",
   "version": "3.5.3"
  }
 },
 "nbformat": 4,
 "nbformat_minor": 2
}
